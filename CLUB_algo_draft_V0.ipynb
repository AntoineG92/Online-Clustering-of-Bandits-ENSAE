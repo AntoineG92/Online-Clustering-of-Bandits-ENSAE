{
 "cells": [
  {
   "cell_type": "markdown",
   "metadata": {},
   "source": [
    "# CLUB algorithm draft - Online Clustering of Bandits"
   ]
  },
  {
   "cell_type": "code",
   "execution_count": 9,
   "metadata": {
    "collapsed": true
   },
   "outputs": [],
   "source": [
    "import numpy as np\n",
    "import numpy.random as npr\n",
    "import numpy.linalg\n",
    "import pandas as pd"
   ]
  },
  {
   "cell_type": "markdown",
   "metadata": {},
   "source": [
    "## Initialisation"
   ]
  },
  {
   "cell_type": "code",
   "execution_count": 86,
   "metadata": {},
   "outputs": [],
   "source": [
    "#itérations\n",
    "T=10\n",
    "#nombre d'utilisateurs\n",
    "n_user=5\n",
    "#dimension des catégories/labels à prédire\n",
    "D=3\n",
    "#matrice M_i associée à l'approximation des paramètres du cluster j(i)\n",
    "#paramètre b_i associé à l'approximation des paramètres du cluster j(i)\n",
    "d_M=dict()\n",
    "d_b=dict()\n",
    "for i in range(n_user):\n",
    "    d_M['M%d' % i]=np.identity(D)\n",
    "    d_b['b%d' % i]=np.zeros(D)\n",
    "    \n",
    "#nombre de clusters estimé\n",
    "m=1\n",
    "#nombre de clusters réel (supposé constant pour chaque période)\n",
    "c=10          \n",
    "#variation autour de la payoff (white noise)\n",
    "sigma=1\n",
    "#nombre de users dans chaque cluster\n",
    "\n",
    "#initialiser omega\n",
    "omega=np.ones(D)\n",
    "#init vecteur V du graphe réel\n",
    "V=np.ones(n_user)\n",
    "#paramètre du confidence bound\n",
    "alpha=1"
   ]
  },
  {
   "cell_type": "markdown",
   "metadata": {},
   "source": [
    "## Création de données synthétiques"
   ]
  },
  {
   "cell_type": "code",
   "execution_count": 84,
   "metadata": {
    "collapsed": true
   },
   "outputs": [],
   "source": [
    "#vecteur u_j pour chaque cluster estimé j=1...m\n"
   ]
  },
  {
   "cell_type": "markdown",
   "metadata": {},
   "source": [
    "## Algo CLUB"
   ]
  },
  {
   "cell_type": "code",
   "execution_count": 90,
   "metadata": {},
   "outputs": [
    {
     "name": "stdout",
     "output_type": "stream",
     "text": [
      "0.0\n",
      "0.0\n",
      "0.0\n",
      "0.0\n",
      "0.0\n",
      "0.0\n",
      "0.0\n",
      "0.0\n",
      "0.0\n",
      "0.0\n"
     ]
    }
   ],
   "source": [
    "T=1\n",
    "for t in range(T):\n",
    "    #choisir aléatoirement un user i\n",
    "    i=int(npr.uniform(0,n_user))+1\n",
    "    #reçoit contexte C_it généré aléatoirement [A METTRE A JOUR]\n",
    "    C=npr.uniform(size=[D,c])\n",
    "    #genere omega\n",
    "    omega=np.linalg.inv(M)*b\n",
    "    #détermine j_t(i)\n",
    "    j_hat=V[i]\n",
    "    #calcule M_bar et b_bar et omega aggrégés\n",
    "    M_index=[k for k in V if k==j_hat]\n",
    "    M_sum=sum([d_M['M'+str(int(k))] for k in M_index])\n",
    "    M_bar=np.identity(D)+M_sum-len(M_index)*np.identity(D)\n",
    "    b_bar=sum([d_b['b'+str(int(k))] for k in M_index])\n",
    "    omega_bar=np.dot(np.linalg.inv(M_bar),b_bar)\n",
    "    #détermine k_t optimal pour cluster j_t(i)\n",
    "    vect_k=np.zeros(c)\n",
    "    for k in range(c):\n",
    "        CB=alpha*np.sqrt(np.dot(np.dot(C[:,k].T,np.linalg.inv(M_bar)),C[:,k])*np.log(t+1))\n",
    "        vect_k[k]=CB+np.dot(omega_bar.T,C[:,k])\n",
    "        print(vect_k[k])\n",
    "    k_t=[v for v in range(c) if vect_k[v]==np.max(vect_k)]\n",
    "    #calcule payoffs\n",
    "    \n",
    "    \n"
   ]
  },
  {
   "cell_type": "code",
   "execution_count": 77,
   "metadata": {},
   "outputs": [
    {
     "name": "stdout",
     "output_type": "stream",
     "text": [
      "[[ 1.  1.  1.]\n",
      " [ 1.  1.  1.]\n",
      " [ 1.  0.  1.]]\n",
      "[[ 1.  1.  1.]\n",
      " [ 1.  1.  0.]\n",
      " [ 1.  1.  1.]]\n"
     ]
    }
   ],
   "source": [
    "A=np.ones([3,3])\n",
    "\n",
    "A[2,1]=0\n",
    "print(A)\n",
    "A=A.T\n",
    "print(A)"
   ]
  },
  {
   "cell_type": "code",
   "execution_count": 42,
   "metadata": {},
   "outputs": [
    {
     "data": {
      "text/plain": [
       "array([[ 0.68213805,  0.50775345,  0.18364261,  0.47887327,  0.53222064,\n",
       "         0.04322606,  0.09946843,  0.46870691,  0.6117551 ,  0.99944931],\n",
       "       [ 0.68514888,  0.69585288,  0.22110171,  0.80952001,  0.95222109,\n",
       "         0.26913348,  0.63699043,  0.35393434,  0.11382247,  0.98555829],\n",
       "       [ 0.1752772 ,  0.07976344,  0.73425109,  0.19963325,  0.68539193,\n",
       "         0.05150621,  0.36951962,  0.36933799,  0.91472926,  0.03736494]])"
      ]
     },
     "execution_count": 42,
     "metadata": {},
     "output_type": "execute_result"
    }
   ],
   "source": [
    "C"
   ]
  },
  {
   "cell_type": "code",
   "execution_count": null,
   "metadata": {
    "collapsed": true
   },
   "outputs": [],
   "source": []
  }
 ],
 "metadata": {
  "kernelspec": {
   "display_name": "Python 3",
   "language": "python",
   "name": "python3"
  },
  "language_info": {
   "codemirror_mode": {
    "name": "ipython",
    "version": 3
   },
   "file_extension": ".py",
   "mimetype": "text/x-python",
   "name": "python",
   "nbconvert_exporter": "python",
   "pygments_lexer": "ipython3",
   "version": "3.6.3"
  }
 },
 "nbformat": 4,
 "nbformat_minor": 2
}
