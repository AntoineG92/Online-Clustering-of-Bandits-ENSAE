{
 "cells": [
  {
   "cell_type": "markdown",
   "metadata": {},
   "source": [
    "# CLUB algorithm draft - Online Clustering of Bandits"
   ]
  },
  {
   "cell_type": "code",
   "execution_count": 10,
   "metadata": {
    "collapsed": true
   },
   "outputs": [],
   "source": [
    "import numpy as np\n",
    "import numpy.random as npr\n",
    "import pandas as pd"
   ]
  },
  {
   "cell_type": "markdown",
   "metadata": {},
   "source": [
    "## Initialisation"
   ]
  },
  {
   "cell_type": "code",
   "execution_count": 38,
   "metadata": {},
   "outputs": [],
   "source": [
    "#itérations\n",
    "T=10 \n",
    "#nombre d'utilisateurs\n",
    "n_user=2 \n",
    "#dimension des catégories/labels à prédire\n",
    "D=3\n",
    "#matrice M_i associée à l'approximation des paramètres du cluster j(i)\n",
    "M=np.identity(D) \n",
    "#paramètre b_i associé à l'approximation des paramètres du cluster j(i)\n",
    "b=np.zeros(D)  \n",
    "#nombre de clusters estimé\n",
    "m=(npr.uniform(size=T)*T*1.5).astype(int)  \n",
    "#nombre de clusters réel (supposé constant pour chaque période)\n",
    "C=10          \n",
    "#variation autour de la payoff (white noise)\n",
    "sigma=1\n",
    "#nombre de users dans chaque cluster\n",
    "\n",
    "#Contexte\n",
    "C=npr.uniform(size=[D,C])"
   ]
  },
  {
   "cell_type": "markdown",
   "metadata": {},
   "source": [
    "## Création de données synthétiques"
   ]
  },
  {
   "cell_type": "code",
   "execution_count": 35,
   "metadata": {
    "collapsed": true
   },
   "outputs": [],
   "source": [
    "#vecteur u_j pour chaque cluster estimé j=1...m\n"
   ]
  },
  {
   "cell_type": "markdown",
   "metadata": {},
   "source": [
    "## Algo CLUB"
   ]
  },
  {
   "cell_type": "code",
   "execution_count": null,
   "metadata": {
    "collapsed": true
   },
   "outputs": [],
   "source": [
    "for i in range(T):\n",
    "    #choisir aléatoirement un user i\n",
    "    \n",
    "    #reçoit contexte C_it généré aléatoirement\n",
    "    \n",
    "    #estime w\n",
    "    \n",
    "    \n"
   ]
  }
 ],
 "metadata": {
  "kernelspec": {
   "display_name": "Python 3",
   "language": "python",
   "name": "python3"
  },
  "language_info": {
   "codemirror_mode": {
    "name": "ipython",
    "version": 3
   },
   "file_extension": ".py",
   "mimetype": "text/x-python",
   "name": "python",
   "nbconvert_exporter": "python",
   "pygments_lexer": "ipython3",
   "version": "3.6.3"
  }
 },
 "nbformat": 4,
 "nbformat_minor": 2
}
