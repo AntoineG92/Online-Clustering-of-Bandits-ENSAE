{
 "cells": [
  {
   "cell_type": "markdown",
   "metadata": {},
   "source": [
    "# CLUB algorithm draft - Online Clustering of Bandits"
   ]
  },
  {
   "cell_type": "code",
   "execution_count": 108,
   "metadata": {},
   "outputs": [],
   "source": [
    "import numpy as np\n",
    "import numpy.random as npr\n",
    "import numpy.linalg\n",
    "import pandas as pd\n",
    "from scipy.spatial.distance import euclidean"
   ]
  },
  {
   "cell_type": "markdown",
   "metadata": {},
   "source": [
    "## Initialisation"
   ]
  },
  {
   "cell_type": "code",
   "execution_count": 126,
   "metadata": {
    "collapsed": true
   },
   "outputs": [],
   "source": [
    "#itérations\n",
    "T=10\n",
    "#nombre d'utilisateurs\n",
    "n_user=5\n",
    "#dimension des catégories/labels à prédire\n",
    "D=3\n",
    "#matrice M_i associée à l'approximation des paramètres du cluster j(i)\n",
    "#paramètre b_i associé à l'approximation des paramètres du cluster j(i)\n",
    "d_M=dict()\n",
    "d_b=dict()\n",
    "for i in range(n_user):\n",
    "    d_M['M%d' % i]=np.identity(D)\n",
    "    d_b['b%d' % i]=np.zeros(D)\n",
    "    \n",
    "#nombre de clusters estimé\n",
    "m=1\n",
    "#nombre de clusters réel (supposé constant pour chaque période)\n",
    "c=10          \n",
    "#variation autour de la payoff (white noise)\n",
    "sigma=1\n",
    "#nombre de users dans chaque cluster\n",
    "\n",
    "#initialiser omega\n",
    "omega=np.ones(D)\n",
    "#init vecteur V du graphe réel\n",
    "V=np.ones([n_user,n_user])\n",
    "#paramètre du confidence bound\n",
    "alpha=1\n",
    "alpha2=1\n",
    "#standard deviation du white noise\n",
    "sigma=1\n",
    "#liste des indices précédents\n",
    "list_i=[]"
   ]
  },
  {
   "cell_type": "markdown",
   "metadata": {},
   "source": [
    "## Algo CLUB"
   ]
  },
  {
   "cell_type": "code",
   "execution_count": 127,
   "metadata": {},
   "outputs": [
    {
     "name": "stdout",
     "output_type": "stream",
     "text": [
      "i= 4\n",
      "omega: [ 0.  0.  0.]\n"
     ]
    },
    {
     "ename": "ValueError",
     "evalue": "The truth value of an array with more than one element is ambiguous. Use a.any() or a.all()",
     "output_type": "error",
     "traceback": [
      "\u001b[0;31m---------------------------------------------------------------------------\u001b[0m",
      "\u001b[0;31mValueError\u001b[0m                                Traceback (most recent call last)",
      "\u001b[0;32m<ipython-input-127-bd40041b46a7>\u001b[0m in \u001b[0;36m<module>\u001b[0;34m()\u001b[0m\n\u001b[1;32m     14\u001b[0m     \u001b[0mj_hat\u001b[0m\u001b[0;34m=\u001b[0m\u001b[0mV\u001b[0m\u001b[0;34m[\u001b[0m\u001b[0mi\u001b[0m\u001b[0;34m]\u001b[0m\u001b[0;34m\u001b[0m\u001b[0m\n\u001b[1;32m     15\u001b[0m     \u001b[0;31m#calcule M_bar et b_bar et omega aggrégés\u001b[0m\u001b[0;34m\u001b[0m\u001b[0;34m\u001b[0m\u001b[0m\n\u001b[0;32m---> 16\u001b[0;31m     \u001b[0mM_index\u001b[0m\u001b[0;34m=\u001b[0m\u001b[0;34m[\u001b[0m\u001b[0mk\u001b[0m \u001b[0;32mfor\u001b[0m \u001b[0mk\u001b[0m \u001b[0;32min\u001b[0m \u001b[0mV\u001b[0m \u001b[0;32mif\u001b[0m \u001b[0mk\u001b[0m\u001b[0;34m==\u001b[0m\u001b[0mj_hat\u001b[0m\u001b[0;34m]\u001b[0m\u001b[0;34m[\u001b[0m\u001b[0;36m0\u001b[0m\u001b[0;34m]\u001b[0m\u001b[0;34m\u001b[0m\u001b[0m\n\u001b[0m\u001b[1;32m     17\u001b[0m     \u001b[0mM_sum\u001b[0m\u001b[0;34m=\u001b[0m\u001b[0msum\u001b[0m\u001b[0;34m(\u001b[0m\u001b[0;34m[\u001b[0m\u001b[0md_M\u001b[0m\u001b[0;34m[\u001b[0m\u001b[0;34m'M'\u001b[0m\u001b[0;34m+\u001b[0m\u001b[0mstr\u001b[0m\u001b[0;34m(\u001b[0m\u001b[0mint\u001b[0m\u001b[0;34m(\u001b[0m\u001b[0mk\u001b[0m\u001b[0;34m)\u001b[0m\u001b[0;34m)\u001b[0m\u001b[0;34m]\u001b[0m \u001b[0;32mfor\u001b[0m \u001b[0mk\u001b[0m \u001b[0;32min\u001b[0m \u001b[0mM_index\u001b[0m\u001b[0;34m]\u001b[0m\u001b[0;34m)\u001b[0m\u001b[0;34m\u001b[0m\u001b[0m\n\u001b[1;32m     18\u001b[0m     \u001b[0mM_bar\u001b[0m\u001b[0;34m=\u001b[0m\u001b[0mnp\u001b[0m\u001b[0;34m.\u001b[0m\u001b[0midentity\u001b[0m\u001b[0;34m(\u001b[0m\u001b[0mD\u001b[0m\u001b[0;34m)\u001b[0m\u001b[0;34m+\u001b[0m\u001b[0mM_sum\u001b[0m\u001b[0;34m-\u001b[0m\u001b[0mlen\u001b[0m\u001b[0;34m(\u001b[0m\u001b[0mM_index\u001b[0m\u001b[0;34m)\u001b[0m\u001b[0;34m*\u001b[0m\u001b[0mnp\u001b[0m\u001b[0;34m.\u001b[0m\u001b[0midentity\u001b[0m\u001b[0;34m(\u001b[0m\u001b[0mD\u001b[0m\u001b[0;34m)\u001b[0m\u001b[0;34m\u001b[0m\u001b[0m\n",
      "\u001b[0;32m<ipython-input-127-bd40041b46a7>\u001b[0m in \u001b[0;36m<listcomp>\u001b[0;34m(.0)\u001b[0m\n\u001b[1;32m     14\u001b[0m     \u001b[0mj_hat\u001b[0m\u001b[0;34m=\u001b[0m\u001b[0mV\u001b[0m\u001b[0;34m[\u001b[0m\u001b[0mi\u001b[0m\u001b[0;34m]\u001b[0m\u001b[0;34m\u001b[0m\u001b[0m\n\u001b[1;32m     15\u001b[0m     \u001b[0;31m#calcule M_bar et b_bar et omega aggrégés\u001b[0m\u001b[0;34m\u001b[0m\u001b[0;34m\u001b[0m\u001b[0m\n\u001b[0;32m---> 16\u001b[0;31m     \u001b[0mM_index\u001b[0m\u001b[0;34m=\u001b[0m\u001b[0;34m[\u001b[0m\u001b[0mk\u001b[0m \u001b[0;32mfor\u001b[0m \u001b[0mk\u001b[0m \u001b[0;32min\u001b[0m \u001b[0mV\u001b[0m \u001b[0;32mif\u001b[0m \u001b[0mk\u001b[0m\u001b[0;34m==\u001b[0m\u001b[0mj_hat\u001b[0m\u001b[0;34m]\u001b[0m\u001b[0;34m[\u001b[0m\u001b[0;36m0\u001b[0m\u001b[0;34m]\u001b[0m\u001b[0;34m\u001b[0m\u001b[0m\n\u001b[0m\u001b[1;32m     17\u001b[0m     \u001b[0mM_sum\u001b[0m\u001b[0;34m=\u001b[0m\u001b[0msum\u001b[0m\u001b[0;34m(\u001b[0m\u001b[0;34m[\u001b[0m\u001b[0md_M\u001b[0m\u001b[0;34m[\u001b[0m\u001b[0;34m'M'\u001b[0m\u001b[0;34m+\u001b[0m\u001b[0mstr\u001b[0m\u001b[0;34m(\u001b[0m\u001b[0mint\u001b[0m\u001b[0;34m(\u001b[0m\u001b[0mk\u001b[0m\u001b[0;34m)\u001b[0m\u001b[0;34m)\u001b[0m\u001b[0;34m]\u001b[0m \u001b[0;32mfor\u001b[0m \u001b[0mk\u001b[0m \u001b[0;32min\u001b[0m \u001b[0mM_index\u001b[0m\u001b[0;34m]\u001b[0m\u001b[0;34m)\u001b[0m\u001b[0;34m\u001b[0m\u001b[0m\n\u001b[1;32m     18\u001b[0m     \u001b[0mM_bar\u001b[0m\u001b[0;34m=\u001b[0m\u001b[0mnp\u001b[0m\u001b[0;34m.\u001b[0m\u001b[0midentity\u001b[0m\u001b[0;34m(\u001b[0m\u001b[0mD\u001b[0m\u001b[0;34m)\u001b[0m\u001b[0;34m+\u001b[0m\u001b[0mM_sum\u001b[0m\u001b[0;34m-\u001b[0m\u001b[0mlen\u001b[0m\u001b[0;34m(\u001b[0m\u001b[0mM_index\u001b[0m\u001b[0;34m)\u001b[0m\u001b[0;34m*\u001b[0m\u001b[0mnp\u001b[0m\u001b[0;34m.\u001b[0m\u001b[0midentity\u001b[0m\u001b[0;34m(\u001b[0m\u001b[0mD\u001b[0m\u001b[0;34m)\u001b[0m\u001b[0;34m\u001b[0m\u001b[0m\n",
      "\u001b[0;31mValueError\u001b[0m: The truth value of an array with more than one element is ambiguous. Use a.any() or a.all()"
     ]
    }
   ],
   "source": [
    "T=1\n",
    "for t in range(T):\n",
    "    #choisir aléatoirement un user i\n",
    "    i=int(npr.uniform(0,n_user))\n",
    "    print(\"i=\",i)\n",
    "    list_i.append(i)\n",
    "    #reçoit contexte C_it généré aléatoirement [A METTRE A JOUR]\n",
    "    C=npr.uniform(size=[D,c])\n",
    "    #genere omega\n",
    "    omega=np.zeros([n_user,D])\n",
    "    print(\"omega:\",np.dot(np.linalg.inv(d_M['M'+str(int(i))]),d_b['b'+str(int(i))]))\n",
    "    omega[i,:]=np.dot(np.linalg.inv(d_M['M'+str(int(i))]),d_b['b'+str(int(i))])\n",
    "    #détermine j_t(i)\n",
    "    j_hat=V[i]\n",
    "    #calcule M_bar et b_bar et omega aggrégés\n",
    "    M_index=[k for k in V if k==j_hat]\n",
    "    M_sum=sum([d_M['M'+str(int(k))] for k in M_index])\n",
    "    M_bar=np.identity(D)+M_sum-len(M_index)*np.identity(D)\n",
    "    b_bar=sum([d_b['b'+str(int(k))] for k in M_index])\n",
    "    omega_bar=np.dot(np.linalg.inv(M_bar),b_bar)\n",
    "    #print(omega_bar)\n",
    "    #détermine k_t optimal pour cluster j_t(i)\n",
    "    vect_k=np.zeros(c)\n",
    "    for k in range(c):\n",
    "        CB=alpha*np.sqrt(np.dot(np.dot(C[:,k].T,np.linalg.inv(M_bar)),C[:,k])*np.log(t+1))\n",
    "        vect_k[k]=CB+np.dot(omega_bar.T,C[:,k])\n",
    "    k_t=[v for v in range(c) if vect_k[v]==np.max(vect_k)][0]\n",
    "    #calcule payoffs\n",
    "    a_t=np.dot(omega_bar,C[:,k_t])+npr.normal(loc=0,scale=sigma,size=1)\n",
    "    #update weights\n",
    "    d_M['M'+str(int(i))]=d_M['M'+str(int(i))]+np.dot(C[:,k_t],C[:,k_t].T)\n",
    "    d_b['b'+str(int(i))]=d_b['b'+str(int(i))]+a_t*C[:,k_t]\n",
    "    #update clusters\n",
    "    T_i=list_i.count(i)-1\n",
    "    if list_i.count(i)==1:\n",
    "        T_i=1\n",
    "    CB_tild=np.zeros(n_user)\n",
    "    CB_tild[i]=alpha2*np.sqrt((1+np.log(1+T_i))/(1+T_i))\n",
    "    for l in np.delete(range(n_user),i):\n",
    "        T_i=list_i.count(l)-1\n",
    "        if list_i.count(l)==1:\n",
    "            T_i=1\n",
    "        if list_i.count(l)==0:\n",
    "            T_i=0\n",
    "        CB_tild[l]=alpha2*np.sqrt((1+np.log(1+T_i))/(1+T_i))\n",
    "        omega[l,:]=np.dot(np.linalg.inv(d_M['M'+str(int(l))]),d_b['b'+str(int(l))])\n",
    "        norm_diff_omega=euclidean(omega[l,:],omega[i,:])\n",
    "        if norm_diff > CB_tild[l] + CB_tild[i]:\n",
    "            V[i,l]=0\n",
    "            V[l,i]=0\n",
    "        \n",
    "    print(\"V:\",V)    \n",
    "    print(\"CB_tild\",CB_tild)    \n"
   ]
  },
  {
   "cell_type": "code",
   "execution_count": 113,
   "metadata": {},
   "outputs": [
    {
     "data": {
      "text/plain": [
       "2.2360679774997898"
      ]
     },
     "execution_count": 113,
     "metadata": {},
     "output_type": "execute_result"
    }
   ],
   "source": [
    "euclidean([0,2,0],[0,0,1])"
   ]
  },
  {
   "cell_type": "code",
   "execution_count": 114,
   "metadata": {},
   "outputs": [
    {
     "data": {
      "text/plain": [
       "2.2360679774997898"
      ]
     },
     "execution_count": 114,
     "metadata": {},
     "output_type": "execute_result"
    }
   ],
   "source": [
    "np.sqrt(5)"
   ]
  },
  {
   "cell_type": "code",
   "execution_count": 55,
   "metadata": {},
   "outputs": [
    {
     "name": "stdout",
     "output_type": "stream",
     "text": [
      "[0 2]\n"
     ]
    }
   ],
   "source": [
    "print(np.delete(range(3),1))"
   ]
  },
  {
   "cell_type": "code",
   "execution_count": 21,
   "metadata": {},
   "outputs": [
    {
     "name": "stdout",
     "output_type": "stream",
     "text": [
      "[[ 3.  3.  3.  3.  3.  3.  3.  3.  3.  3.]\n",
      " [ 3.  3.  3.  3.  3.  3.  3.  3.  3.  3.]\n",
      " [ 3.  3.  3.  3.  3.  3.  3.  3.  3.  3.]\n",
      " [ 3.  3.  3.  3.  3.  3.  3.  3.  3.  3.]\n",
      " [ 3.  3.  3.  3.  3.  3.  3.  3.  3.  3.]\n",
      " [ 3.  3.  3.  3.  3.  3.  3.  3.  3.  3.]\n",
      " [ 3.  3.  3.  3.  3.  3.  3.  3.  3.  3.]\n",
      " [ 3.  3.  3.  3.  3.  3.  3.  3.  3.  3.]\n",
      " [ 3.  3.  3.  3.  3.  3.  3.  3.  3.  3.]\n",
      " [ 3.  3.  3.  3.  3.  3.  3.  3.  3.  3.]]\n"
     ]
    }
   ],
   "source": [
    "A=np.ones([10,3])\n",
    "\n",
    "print(np.dot(A,A.T))"
   ]
  },
  {
   "cell_type": "code",
   "execution_count": 42,
   "metadata": {},
   "outputs": [
    {
     "data": {
      "text/plain": [
       "array([[ 0.68213805,  0.50775345,  0.18364261,  0.47887327,  0.53222064,\n",
       "         0.04322606,  0.09946843,  0.46870691,  0.6117551 ,  0.99944931],\n",
       "       [ 0.68514888,  0.69585288,  0.22110171,  0.80952001,  0.95222109,\n",
       "         0.26913348,  0.63699043,  0.35393434,  0.11382247,  0.98555829],\n",
       "       [ 0.1752772 ,  0.07976344,  0.73425109,  0.19963325,  0.68539193,\n",
       "         0.05150621,  0.36951962,  0.36933799,  0.91472926,  0.03736494]])"
      ]
     },
     "execution_count": 42,
     "metadata": {},
     "output_type": "execute_result"
    }
   ],
   "source": [
    "C"
   ]
  },
  {
   "cell_type": "code",
   "execution_count": null,
   "metadata": {
    "collapsed": true
   },
   "outputs": [],
   "source": []
  }
 ],
 "metadata": {
  "kernelspec": {
   "display_name": "Python 3",
   "language": "python",
   "name": "python3"
  },
  "language_info": {
   "codemirror_mode": {
    "name": "ipython",
    "version": 3
   },
   "file_extension": ".py",
   "mimetype": "text/x-python",
   "name": "python",
   "nbconvert_exporter": "python",
   "pygments_lexer": "ipython3",
   "version": "3.6.3"
  }
 },
 "nbformat": 4,
 "nbformat_minor": 2
}
