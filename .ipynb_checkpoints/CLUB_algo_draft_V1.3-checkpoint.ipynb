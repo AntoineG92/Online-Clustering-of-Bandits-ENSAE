{
 "cells": [
  {
   "cell_type": "markdown",
   "metadata": {},
   "source": [
    "# CLUB algorithm draft - Online Clustering of Bandits"
   ]
  },
  {
   "cell_type": "code",
   "execution_count": 3,
   "metadata": {
    "collapsed": true
   },
   "outputs": [],
   "source": [
    "import numpy as np\n",
    "import numpy.random as npr\n",
    "import numpy.linalg\n",
    "import pandas as pd\n",
    "from scipy.spatial.distance import euclidean\n",
    "import networkx as nx\n",
    "import matplotlib.pyplot as plt"
   ]
  },
  {
   "cell_type": "markdown",
   "metadata": {},
   "source": [
    "### Commentaires\n",
    " \n",
    "Problème de convergence: sur une période suffisamment longue, on supprime tous les noeuds du graphe <br>\n",
    "\n",
    "J'ai l'impression que la norme euclidienne (omega_i,omega_l) est beaucoup trop volatile par rapport aux CB. Et quand cette norme prend des valeurs très hautes, la condition \"brise le lien\" est satisfaite.<br>\n",
    "\n",
    "La payoff a_t n'est pas toujours dans [-1,1]<br>\n",
    "\n",
    "Le regret est quasi-linéaire -> l'algo n'apprend rien"
   ]
  },
  {
   "cell_type": "markdown",
   "metadata": {},
   "source": [
    "# Initialisation"
   ]
  },
  {
   "cell_type": "code",
   "execution_count": 196,
   "metadata": {},
   "outputs": [
    {
     "name": "stdout",
     "output_type": "stream",
     "text": [
      "{1: {2: {}}, 2: {1: {}, 3: {}}, 3: {2: {}}}\n"
     ]
    }
   ],
   "source": [
    "#tests\n",
    "V=nx.Graph()\n",
    "V.add_node(1)\n",
    "V.add_node(2)\n",
    "V.add_node(3)\n",
    "V.add_edge(1,2)\n",
    "V.add_edge(3,2)\n",
    "print(V.adj)"
   ]
  },
  {
   "cell_type": "code",
   "execution_count": 82,
   "metadata": {},
   "outputs": [
    {
     "name": "stdout",
     "output_type": "stream",
     "text": [
      "{0: {'weight': 1.0}, 1: {'weight': 1.0}, 2: {'weight': 1.0}, 3: {'weight': 1.0}}\n"
     ]
    }
   ],
   "source": [
    "V=nx.Graph(np.ones([4,4]))\n",
    "#V=nx.Graph(np.identity(3))\n",
    "#print(V.adj)\n",
    "print(V[1])"
   ]
  },
  {
   "cell_type": "code",
   "execution_count": 83,
   "metadata": {
    "collapsed": true
   },
   "outputs": [],
   "source": [
    "V.remove_edge(0,1)\n",
    "V.remove_edge(0,3)\n",
    "V.remove_edge(3,1)\n",
    "V.remove_edge(0,2)"
   ]
  },
  {
   "cell_type": "code",
   "execution_count": 84,
   "metadata": {},
   "outputs": [
    {
     "data": {
      "image/png": "[encoded data removed]",
      "text/plain": [
       "<matplotlib.figure.Figure at 0x10e110d68>"
      ]
     },
     "metadata": {},
     "output_type": "display_data"
    }
   ],
   "source": [
    "nx.draw_networkx(V)\n",
    "plt.show()"
   ]
  },
  {
   "cell_type": "code",
   "execution_count": 173,
   "metadata": {},
   "outputs": [
    {
     "data": {
      "image/png": "[encoded data removed]",
      "text/plain": [
       "<matplotlib.figure.Figure at 0x10e143f60>"
      ]
     },
     "metadata": {},
     "output_type": "display_data"
    }
   ],
   "source": [
    "G=nx.Graph()\n",
    "G=nx.compose(G,nx.path_graph(3))\n",
    "nx.draw_networkx(G)\n",
    "plt.show()"
   ]
  },
  {
   "cell_type": "code",
   "execution_count": 101,
   "metadata": {},
   "outputs": [
    {
     "data": {
      "text/plain": [
       "3"
      ]
     },
     "execution_count": 101,
     "metadata": {},
     "output_type": "execute_result"
    }
   ],
   "source": [
    "len( list( nx.connected_component_subgraphs(G) ) )"
   ]
  },
  {
   "cell_type": "code",
   "execution_count": 96,
   "metadata": {},
   "outputs": [
    {
     "data": {
      "image/png": "[encoded data removed]",
      "text/plain": [
       "<matplotlib.figure.Figure at 0x12001f588>"
      ]
     },
     "metadata": {},
     "output_type": "display_data"
    }
   ],
   "source": [
    "nx.draw_networkx(list(nx.connected_component_subgraphs(G))[2])\n",
    "plt.show()"
   ]
  },
  {
   "cell_type": "code",
   "execution_count": 206,
   "metadata": {},
   "outputs": [
    {
     "data": {
      "text/plain": [
       "[1, 2]"
      ]
     },
     "execution_count": 206,
     "metadata": {},
     "output_type": "execute_result"
    }
   ],
   "source": [
    "[n for n in V if V.has_edge(1,n)]"
   ]
  },
  {
   "cell_type": "code",
   "execution_count": 221,
   "metadata": {},
   "outputs": [
    {
     "data": {
      "text/plain": [
       "False"
      ]
     },
     "execution_count": 221,
     "metadata": {},
     "output_type": "execute_result"
    }
   ],
   "source": [
    "nx.has_path(V,1,0)"
   ]
  },
  {
   "cell_type": "code",
   "execution_count": 2,
   "metadata": {
    "collapsed": true
   },
   "outputs": [],
   "source": [
    "#sphere unitaire pour générer les matrices de contexte C à chaque période\n",
    "def sphere_unif(dim,N):\n",
    "    norm = np.random.normal\n",
    "    normal_deviates = norm(size=(dim, N))\n",
    "    radius = np.sqrt((normal_deviates**2).sum(axis=0))\n",
    "    points = normal_deviates/radius\n",
    "    return(points)"
   ]
  },
  {
   "cell_type": "code",
   "execution_count": 4,
   "metadata": {
    "collapsed": true
   },
   "outputs": [],
   "source": [
    "def sphere_unif(ndim,npoints):\n",
    "    vec = np.random.randn(ndim, npoints)\n",
    "    vec /= np.linalg.norm(vec, axis=0)\n",
    "    return vec"
   ]
  },
  {
   "cell_type": "code",
   "execution_count": 10,
   "metadata": {},
   "outputs": [
    {
     "data": {
      "text/plain": [
       "array([[ 0.66637396, -0.76728379, -0.51809544],\n",
       "       [-0.7456177 , -0.64130771,  0.85532281]])"
      ]
     },
     "execution_count": 10,
     "metadata": {},
     "output_type": "execute_result"
    }
   ],
   "source": [
    "sphere_unif(2,3)"
   ]
  },
  {
   "cell_type": "code",
   "execution_count": 25,
   "metadata": {},
   "outputs": [],
   "source": [
    "#itérations\n",
    "T=5000\n",
    "#nombre d'utilisateurs\n",
    "n_user=60\n",
    "#dimension des catégories/labels à prédire\n",
    "D=3\n",
    "#matrice M_i associée à l'approximation des paramètres du cluster j(i)\n",
    "#paramètre b_i associé à l'approximation des paramètres du cluster j(i)\n",
    "d_M=dict()\n",
    "d_b=dict()\n",
    "for i in range(n_user):\n",
    "    d_M['M%d' % i]=np.identity(D)\n",
    "    d_b['b%d' % i]=np.zeros(D)\n",
    "\n",
    "#vrai nombre de clusters (supposé connu et constant pour chaque période) \n",
    "c=6\n",
    "#variation autour de la payoff (white noise)\n",
    "sigma=0.05\n",
    "#nombre de users dans chaque cluster\n",
    "\n",
    "#matrice U des vrais u_j\n",
    "U=sphere_unif(n_user,D)\n",
    "\n",
    "#initialiser omega\n",
    "omega=np.ones(D)\n",
    "#init matrice V du graphe réel\n",
    "#V=nx.Graph( np.ones([n_user,n_user]) )\n",
    "V = nx.dense_gnm_random_graph(n_user,int(np.log(n_user)*n_user))\n",
    "\n",
    "#nombre de clusters estimé (initialisé selon le graph initial)\n",
    "m=len( list( nx.connected_component_subgraphs(V) ) )  \n",
    "\n",
    "#paramètre du confidence bound\n",
    "alpha=1\n",
    "alpha2=3\n",
    "\n",
    "#liste des indices précédents\n",
    "list_i=[]\n",
    "#liste de matrices de contexte C_it pré-définies. Pour user i à période t, on va piocher dans cette liste\n",
    "#nb_context=int(n_user/3) #nombre de contextes différents\n",
    "list_C=[]\n",
    "n_action=12\n",
    "for cont in range(n_action):\n",
    "    #list_C.append(npr.uniform(0,1,size=[D,c]))\n",
    "    #list_C.append(npr.normal(0,1,size=[D,c]))\n",
    "    list_C.append(sphere_unif(D,c))\n",
    "\n",
    "# nombre de clusters en fonction de la période\n",
    "list_m=[]\n",
    "#regret\n",
    "regret_cum=np.zeros(T)"
   ]
  },
  {
   "cell_type": "code",
   "execution_count": 26,
   "metadata": {},
   "outputs": [],
   "source": [
    "list_CB=np.zeros(T)\n",
    "list_omega=np.zeros(T)\n",
    "list_payoff=[]"
   ]
  },
  {
   "cell_type": "code",
   "execution_count": 169,
   "metadata": {},
   "outputs": [
    {
     "data": {
      "text/plain": [
       "AtlasView({2: {}, 5: {}, 12: {}, 16: {}, 24: {}, 32: {}, 37: {}, 44: {}, 53: {}, 56: {}})"
      ]
     },
     "execution_count": 169,
     "metadata": {},
     "output_type": "execute_result"
    }
   ],
   "source": [
    "V[47]"
   ]
  },
  {
   "cell_type": "code",
   "execution_count": 145,
   "metadata": {},
   "outputs": [
    {
     "data": {
      "text/plain": [
       "60"
      ]
     },
     "execution_count": 145,
     "metadata": {},
     "output_type": "execute_result"
    }
   ],
   "source": [
    "len(V)"
   ]
  },
  {
   "cell_type": "code",
   "execution_count": 218,
   "metadata": {},
   "outputs": [
    {
     "data": {
      "text/plain": [
       "27"
      ]
     },
     "execution_count": 218,
     "metadata": {},
     "output_type": "execute_result"
    }
   ],
   "source": [
    "len( list( nx.connected_component_subgraphs(V) ) )"
   ]
  },
  {
   "cell_type": "code",
   "execution_count": 39,
   "metadata": {},
   "outputs": [
    {
     "data": {
      "image/png": "[encoded data removed]",
      "text/plain": [
       "<matplotlib.figure.Figure at 0x1130bbcf8>"
      ]
     },
     "metadata": {},
     "output_type": "display_data"
    }
   ],
   "source": [
    "nx.draw(V)\n",
    "plt.show()"
   ]
  },
  {
   "cell_type": "markdown",
   "metadata": {},
   "source": [
    "## Algo CLUB"
   ]
  },
  {
   "cell_type": "code",
   "execution_count": 27,
   "metadata": {
    "collapsed": true
   },
   "outputs": [],
   "source": [
    "def card_clust(z,n,m,j):\n",
    "    denom=0\n",
    "    for i in range(m):\n",
    "        denom=denom+i^(-z)\n",
    "    return((n*j^(-z))/denom)"
   ]
  },
  {
   "cell_type": "code",
   "execution_count": 28,
   "metadata": {},
   "outputs": [],
   "source": [
    "%%capture\n",
    "for t in range(T):\n",
    "    print(\"période t=\",t)\n",
    "    #choisir aléatoirement un user i\n",
    "    i=int(npr.uniform(0,n_user))\n",
    "    print(\"user i=\",i)\n",
    "    list_i.append(i)\n",
    "    #reçoit contexte C_it généré aléatoirement sur une sphere unitaire\n",
    "    #C = sphere_unif(D,c)\n",
    "    #piocher dans un ensemble de profils générés aléatoirement sur t=1...T\n",
    "    #indique les préférences de user i à période t pour chaque cluster estimé 1...c\n",
    "    C = list_C[ int( npr.uniform(0,n_action) ) ]  \n",
    "    #genère omega\n",
    "    omega=np.zeros([n_user,D])\n",
    "    omega[i,:]=np.dot(np.linalg.inv(d_M['M'+str(int(i))]),d_b['b'+str(int(i))])\n",
    "    #détermine l'indice du cluster de i: j_t(i)\n",
    "    #calcule M_bar et b_bar et omega aggrégés\n",
    "    #on récupère tous les indices qui appartiennent au même cluster que celui de i\n",
    "    M_index = [ n for n in V if nx.has_path(V,n,i)]\n",
    "    if M_index==[]:   #si le noeud i est tout seul\n",
    "        M_index=np.array([i])\n",
    "    M_sum=sum([d_M['M'+str(int(k))] for k in M_index])\n",
    "    M_bar=np.identity(D)+M_sum-len(M_index)*np.identity(D)\n",
    "    b_bar=sum([d_b['b'+str(int(k))] for k in M_index])\n",
    "    #print(\"M_index\",M_index)\n",
    "    #print(\"M_bar\",M_bar)\n",
    "    #print(\"b_bar\",b_bar)\n",
    "    omega_bar=np.dot(np.linalg.inv(M_bar),b_bar)\n",
    "    #détermine k_t optimal pour cluster j_t(i) --> UCB STRATEGY @cluster level\n",
    "    vect_k=np.zeros(c)\n",
    "    for k in range(c):\n",
    "        CB=alpha*np.sqrt(np.dot(np.dot(C[:,k].T,np.linalg.inv(M_bar)),C[:,k])*np.log(t+1))\n",
    "        vect_k[k]=CB+np.dot(omega_bar.T,C[:,k])\n",
    "    k_t=[v for v in range(c) if vect_k[v]==np.max(vect_k)][0]\n",
    "    #calcule payoffs avec u_j\n",
    "    a_t=np.dot(U[i,:],C[:,k_t])+npr.uniform(-sigma,sigma,size=1)\n",
    "    #a_t=(np.dot(U[i],C[:,k_t]))/(np.linalg.norm(U[i])*np.linalg.norm(C[:,k_t]))+npr.uniform(-sigma,sigma,size=1)\n",
    "    #regret\n",
    "    other_payoff= list([ np.dot(U[i,:],C[:,n]) for n in range(c) ])\n",
    "    #other_payoff= list([ np.dot(U[n],C[:,n])/(np.linalg.norm(U[n])*np.linalg.norm(C[:,n])) for n in range(c)] )\n",
    "    if t>0:\n",
    "        regret_cum[t]=regret_cum[t-1]+a_t-[np.dot(U[i,:],C[:,n]) for n in range(c) if np.dot(U[i,:],C[:,n])==max(other_payoff)][0]\n",
    "    else:\n",
    "        regret_cum[t]=a_t-[np.dot(U[i,:],C[:,n]) for n in range(c) if np.dot(U[i,:],C[:,n])==max(other_payoff)][0]\n",
    "    list_payoff.append(a_t)\n",
    "    #update weights\n",
    "    d_M['M'+str(int(i))]=d_M['M'+str(int(i))]+np.dot(C[:,k_t],C[:,k_t].T)\n",
    "    d_b['b'+str(int(i))]=d_b['b'+str(int(i))]+a_t*C[:,k_t]\n",
    "    #update clusters\n",
    "    T_i=list_i.count(i)-1  #nombre de user i piochés sur les périodes précédentes (exclue période t actuelle)\n",
    "    #if list_i.count(i)==1: #cas spécifique pour lorsque i est pioché pour la 1ère fois\n",
    "    #    T_i=1\n",
    "    CB_tild=np.zeros(n_user) #calcul des bornes de confiance pour tous les user\n",
    "    CB_tild[i]=alpha2*np.sqrt((1+np.log(1+T_i))/(1+T_i)) #CB pour i, on en a besoin dans la boucle sur les autres users\n",
    "    nodes_i=[k for k in V[i]]\n",
    "    print(\"voisins de i\",nodes_i)\n",
    "    list_CB[t]=CB_tild[i].copy()\n",
    "    for l in nodes_i: #CB pour les autres users voisins de i\n",
    "        T_i=list_i.count(l)-1\n",
    "        if list_i.count(l)==0:\n",
    "            T_i=0\n",
    "        CB_tild[l]=alpha2*np.sqrt((1+np.log(1+T_i))/(1+T_i))\n",
    "        omega[l,:]=np.dot( np.linalg.inv(d_M['M'+str(l)]) , d_b['b'+str(l)] )\n",
    "        norm_diff_omega=euclidean(omega[l,:],omega[i,:])\n",
    "        #print( \"Confidence bounds: \\n\" , CB_tild[l] + CB_tild[i] )\n",
    "        #print(\"omega norm: \\n\", norm_diff_omega)\n",
    "        list_CB[t]=list_CB[t]+CB_tild[l]\n",
    "        list_omega[t]=list_omega[t]+norm_diff_omega\n",
    "        if (norm_diff_omega > (CB_tild[l] + CB_tild[i]) ): #si la distance entre users i et l est grande, on brise le lien\n",
    "            V.remove_edge(i,l)\n",
    "            \"\"\"\n",
    "            V_copy=V.copy()\n",
    "            V_copy.remove_edge(i,l)\n",
    "            m_copy=len( list( nx.connected_component_subgraphs(V) ) )\n",
    "            #list_card=[card_clust(3,n_user,m_copy,j) for j in np.arange(1,m_copy)]\n",
    "            #list_card_V=[len(c) for c in list(nx.connected_component_subgraphs(V_copy)) ]            \n",
    "            #if( (nx.has_path(V_copy,i,l)) or (sorted(list_card) == sorted(list_card_V)) ):\n",
    "            len_clusters=[len(c) for c in list(nx.connected_component_subgraphs(V_copy)) ] \n",
    "            if( (nx.has_path(V_copy,i,l)) or ( min(len_clusters)> int(np.sqrt(n_user)/c)) ):\n",
    "                V.remove_edge(i,l)        \n",
    "            \"\"\"    \n",
    "            print(\"brise le lien entre users\",i,\"et\",l)\n",
    "    #update le nombre de sous-graphes i.e. nombre de clusters at la période t\n",
    "    m=len( list( nx.connected_component_subgraphs(V) ) )\n",
    "    print(\"nouveau nombre de clusters:\",m)\n",
    "    list_m.append(m)\n",
    "    \"\"\"\n",
    "    if m > m_prev: # si j'ai créé un nouveau cluster, alors je re-mélange les éléments dans chaque cluster\n",
    "        #re-melange les noeuds de chaque cluster\n",
    "        V_new=nx.Graph()\n",
    "        for clt in list(nx.connected_component_subgraphs(V)):\n",
    "            n_user_cluster=len(clt)\n",
    "            print(\"nouveau nombre de noeuds:\",n_user_cluster)\n",
    "            new_cluster=nx.dense_gnm_random_graph(n_user_cluster,max(1,int(np.log(n_user_cluster)*n_user_cluster)) )\n",
    "            #un nouveau sous-graphe est généré, on doit maintenant lui donner les bons indices\n",
    "            index_clt=[i for i in clt]\n",
    "            label_nodes={}\n",
    "            for lab in range(len(index_clt)):\n",
    "                label_nodes[lab]=index_clt[lab]\n",
    "            new_cluster=nx.relabel_nodes(new_cluster,label_nodes)\n",
    "            #while (len( list( nx.connected_component_subgraphs(new_cluster) ) ) >1 ): #condition: tous les noeuds doivent être connectés\n",
    "            #    new_cluster=nx.dense_gnm_random_graph(n_user_cluster,int(np.log(n_user_cluster)*n_user_cluster))\n",
    "            V_new=nx.compose(V_new,new_cluster)\n",
    "        V=V_new.copy()\n",
    "        \"\"\"\n",
    "    print(\"V_new # clusters:\",len( list( nx.connected_component_subgraphs(V) ) ))\n",
    "    #nx.draw_networkx(V)\n",
    "    #plt.show()"
   ]
  },
  {
   "cell_type": "code",
   "execution_count": 29,
   "metadata": {},
   "outputs": [
    {
     "data": {
      "image/png": "[encoded data removed]",
      "text/plain": [
       "<matplotlib.figure.Figure at 0x1096af160>"
      ]
     },
     "metadata": {},
     "output_type": "display_data"
    }
   ],
   "source": [
    "plt.plot(list_m)\n",
    "plt.show()"
   ]
  },
  {
   "cell_type": "code",
   "execution_count": 30,
   "metadata": {},
   "outputs": [
    {
     "data": {
      "image/png": "[encoded data removed]",
      "text/plain": [
       "<matplotlib.figure.Figure at 0x10fc62d30>"
      ]
     },
     "metadata": {},
     "output_type": "display_data"
    }
   ],
   "source": [
    "plt.plot(list_CB)\n",
    "plt.show()"
   ]
  },
  {
   "cell_type": "code",
   "execution_count": 31,
   "metadata": {},
   "outputs": [
    {
     "data": {
      "image/png": "[encoded data removed]",
      "text/plain": [
       "<matplotlib.figure.Figure at 0x113f7b1d0>"
      ]
     },
     "metadata": {},
     "output_type": "display_data"
    }
   ],
   "source": [
    "plt.plot(list_omega)\n",
    "plt.show()"
   ]
  },
  {
   "cell_type": "code",
   "execution_count": 32,
   "metadata": {},
   "outputs": [
    {
     "data": {
      "image/png": "[encoded data removed]",
      "text/plain": [
       "<matplotlib.figure.Figure at 0x1130dcbe0>"
      ]
     },
     "metadata": {},
     "output_type": "display_data"
    }
   ],
   "source": [
    "plt.plot(list_payoff)\n",
    "plt.show()"
   ]
  },
  {
   "cell_type": "code",
   "execution_count": 38,
   "metadata": {},
   "outputs": [
    {
     "data": {
      "image/png": "[encoded data removed]",
      "text/plain": [
       "<matplotlib.figure.Figure at 0x1130a2208>"
      ]
     },
     "metadata": {},
     "output_type": "display_data"
    }
   ],
   "source": [
    "plt.plot(-regret_cum)\n",
    "plt.plot(5*np.sqrt(np.arange(T)))\n",
    "plt.show()"
   ]
  },
  {
   "cell_type": "code",
   "execution_count": null,
   "metadata": {
    "collapsed": true
   },
   "outputs": [],
   "source": []
  },
  {
   "cell_type": "code",
   "execution_count": null,
   "metadata": {
    "collapsed": true
   },
   "outputs": [],
   "source": []
  }
 ],
 "metadata": {
  "kernelspec": {
   "display_name": "Python 3",
   "language": "python",
   "name": "python3"
  },
  "language_info": {
   "codemirror_mode": {
    "name": "ipython",
    "version": 3
   },
   "file_extension": ".py",
   "mimetype": "text/x-python",
   "name": "python",
   "nbconvert_exporter": "python",
   "pygments_lexer": "ipython3",
   "version": "3.6.3"
  }
 },
 "nbformat": 4,
 "nbformat_minor": 2
}
