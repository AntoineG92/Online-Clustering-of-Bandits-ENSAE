{
 "cells": [
  {
   "cell_type": "markdown",
   "metadata": {
    "nbpresent": {
     "id": "334a8a2c-2904-4b25-b5fa-f355235b64e5"
    }
   },
   "source": [
    "# Online Clustering of Bandits\n",
    "Apprentissage en ligne et aggrégation\n",
    "\n",
    "Antoine GRELETY, Vincent LE MEUR"
   ]
  },
  {
   "cell_type": "markdown",
   "metadata": {},
   "source": [
    "L'object de ce notebook est de résumer l'article suivant : https://arxiv.org/pdf/1401.8257.pdf et d'en proposer une implémentation en python."
   ]
  },
  {
   "cell_type": "markdown",
   "metadata": {
    "nbpresent": {
     "id": "b0fe486b-07aa-4e01-9544-75e551b3b48d"
    }
   },
   "source": [
    "<b> Attention les cellules commençant par \"TL\" sont issues d'une tradition litérale à retravailler </b>"
   ]
  },
  {
   "cell_type": "markdown",
   "metadata": {
    "nbpresent": {
     "id": "312b57fe-5534-4858-b0a2-fd9c0a853628"
    }
   },
   "source": [
    "## Introduction"
   ]
  },
  {
   "cell_type": "markdown",
   "metadata": {
    "nbpresent": {
     "id": "85f4094d-27d4-4ed7-a8de-1f113f2db28a"
    }
   },
   "source": [
    "Enjeu : Incorporer des relations type réseaux/graphs dans des algorithmes du bandit (typiquement pour de la recommandation) avec un coût computationnel raisonnable. \n",
    "\n",
    "Plusieurs approches ont été réalisées mais qui ont des inconvénients concernant la mise en pratique :\n",
    "- L'information des réseaux sociaux peut être trompeuse ou inexistante\n",
    "- Les algorithmes utilisés sont peu ou pas scalables"
   ]
  },
  {
   "cell_type": "markdown",
   "metadata": {
    "nbpresent": {
     "id": "adb61a1a-b90b-48fa-91e6-4f3228d4506e"
    }
   },
   "source": [
    "Il est par ailleurs possible dans ces réseaux  d'identifier des groupes \"homogènes\" d'utilisateurs. Cela permet d'effectuer des recommandations par groupe et de ne pas avoir à entraîner un modèle par utilisateur"
   ]
  },
  {
   "cell_type": "markdown",
   "metadata": {
    "nbpresent": {
     "id": "d6bb5e26-71b9-4410-acf7-b6a1a7614e3a"
    }
   },
   "source": [
    "Plan de l'article : \n",
    "- Une étude théorique et empirique d'un algorithme de \"clustering adaptatif\" pour \"linear bandits (on cherche à toucher n utilisateurs organisé selon m groupes (m<<n)\n",
    "- Mise en place de l'algo et Analyse du regret en $\\mathrm{0}(\\sqrt{T})$ (le grand oh dépendant de m (pas de n))\n",
    "- Mise en pratique sur des datasets réels"
   ]
  },
  {
   "cell_type": "markdown",
   "metadata": {
    "nbpresent": {
     "id": "bc44de34-3e80-4240-a29b-445d099d3cfb"
    }
   },
   "source": [
    "TL : \n",
    "L'idée principale de l'algorithme est d'utiliser \"des balles de confiance\" des modèles des utilisateurs à la fois pour estimer la similarité des utilisateurs et pour partager les commentaires entre utilisateurs (réputés similaires)."
   ]
  },
  {
   "cell_type": "markdown",
   "metadata": {
    "nbpresent": {
     "id": "d8168bf4-d164-43b3-b336-b30f28d62609"
    }
   },
   "source": [
    "L'algorithme est de plus adaptatif entre une situation avec une recommandation pour tous les utilisateurs et une recommandation personnalisé pour chaque utilisateur."
   ]
  },
  {
   "cell_type": "markdown",
   "metadata": {
    "nbpresent": {
     "id": "831aa4c0-6523-4aeb-9372-e86c1f890302"
    }
   },
   "source": [
    "## Modèle d'apprentissage"
   ]
  },
  {
   "cell_type": "markdown",
   "metadata": {
    "nbpresent": {
     "id": "6e06b7a0-8027-467b-ad95-0af51b24d05b"
    }
   },
   "source": [
    "<b>Hypothèse fondamentale</b> : On suppose qu'il existe un bon clustering permettant de prendre en compte l'information de similarité entre individus."
   ]
  },
  {
   "cell_type": "markdown",
   "metadata": {
    "nbpresent": {
     "id": "0811e267-190f-464c-8613-d0e1e1fdcfb8"
    }
   },
   "source": [
    "Ainsi, soit $V = \\{1,..n\\}$, l'ensemble des utilisateurs et $V_1,...,V_m$ les clusters associés. L'hypothèse précedente considère que dans chacun de ces clusters, les utilisateurs ont le même comportement."
   ]
  },
  {
   "cell_type": "markdown",
   "metadata": {
    "nbpresent": {
     "id": "4e8bcbcb-ba82-454b-beef-e7f8cdcb5e1a"
    }
   },
   "source": [
    "La partition de V (nombre de clusters et nombre d'individus par clusters) est inconnu et doit être inféré par l'algorithme au fil de l'eau."
   ]
  },
  {
   "cell_type": "markdown",
   "metadata": {
    "nbpresent": {
     "id": "2dbd1a2b-ef6c-457e-8137-a60d1524c4c0"
    }
   },
   "source": [
    "L'apprentissage est séquentiel : \n",
    "- A chaque tour on reçoit un id $i_t \\in V$ tiré uniformément et un \"vecteur contexte\" $C_{i_t}=\\{x_{t,1},...,x_{t,c_t}\\}$\n",
    "- On sélectionne alors des $x_{t,k_t}^{-} \\in C_{i_t}$ à recommander à l'utilisateur et on calcule une fonction $a_t(x_{t,k_t},i_t) \\in \\mathcal{R}$ de paiemment"
   ]
  },
  {
   "cell_type": "markdown",
   "metadata": {
    "nbpresent": {
     "id": "75999c62-8df8-4171-a862-6bcc5744cd64"
    }
   },
   "source": [
    "Le nombre $c_t$ de vecteurs contexte est fonction des précédents $a_t$,$C_{i_t}$ et $i_t$.\n",
    "\n",
    "Ainsi que la séquence $C_{i_t}=\\{x_{t,1},...,x_{t,c_t}\\}$ est générée de manière iid à partir d'un processus aléatoire pour lequel la matrice $E(XX^T)$ est \"full rank\"\n",
    "\n",
    "Enfin, les paiemments sont de la forme suivante : $a_i(x) = u_{j(i)}^{T}x + \\epsilon_{j(i)}(x)$ où  $u_{j}$ représente un vecteur paramètre inconnu associé à chaque cluster $V_j$ auquel appartient l'utilisateur $i$ et $\\epsilon_{j(i)}$ représente un terme de variance conditionnelle bruitée centrée et de variance $\\sigma$ finie. \"Conditionnelle\" car calculé à partir d'une espérance conditionnelle par rapport à toutes les précédentes évaluations de $C_{i_t},i_t,a_i$."
   ]
  },
  {
   "cell_type": "markdown",
   "metadata": {
    "nbpresent": {
     "id": "8dbecc06-309d-42d5-bcf1-b59d7984ffbf"
    }
   },
   "source": [
    "Il y a également plusieurs hypothèses fortes : \n",
    "- $a_i(x) \\in [-1,1]$\n",
    "- Pour tout $j \\neq j'$, $||u_j - u_{j'}|| >= \\gamma$ (hypothèses d'hétéorogénité entre clusters"
   ]
  },
  {
   "cell_type": "markdown",
   "metadata": {
    "nbpresent": {
     "id": "f9fae54a-2827-4932-942d-97ced7b5505f"
    }
   },
   "source": [
    "On définit alors le regret à la date t par : \n",
    "$r_t = (max_{x \\in C_{it}}u_{j(i(t))}^{T}x) - u_{j(i(t))}^{T}x^{—}$\n",
    "\n",
    "L'un des objectif principaux est de borner le risque cumulé défini par $\\sum_{t=1}^T (r_{t})$"
   ]
  },
  {
   "cell_type": "markdown",
   "metadata": {
    "nbpresent": {
     "id": "0530dffe-8662-494c-bd71-e62f7baa6eb4"
    }
   },
   "source": [
    "On peut le border par : $\\sum_{t=1}^T (r_{t}) = O_{log}(\\sum_{j=1}^m(\\sigma d + ||u_j||\\sqrt{d})\\sqrt{T}$"
   ]
  },
  {
   "cell_type": "markdown",
   "metadata": {
    "nbpresent": {
     "id": "7ef2788d-b559-4203-b2bd-90b76b82bd7a"
    }
   },
   "source": [
    "## L'algorithme CLUB"
   ]
  },
  {
   "cell_type": "markdown",
   "metadata": {
    "nbpresent": {
     "id": "24fbed5c-bdfe-4f18-95ab-7870f7e761e6"
    }
   },
   "source": [
    "En réalité plutôt que d'avoir un $u_j$ par cluster on a n $u_j$ avec égalité entre ces vecteurs si ils appartiennent au même cluster."
   ]
  },
  {
   "cell_type": "markdown",
   "metadata": {
    "nbpresent": {
     "id": "db189754-8937-421d-8b67-13a5c6d3562a"
    }
   },
   "source": [
    "A chaque temps $t$ l'algorithme aura une estimation des moindres carrées $w_{i,t}$ de $u_i$.\n",
    "$w_{i,t}$ se décompose par le produit suivant : $M_{i,t}^{-1}\\times b_{i,t}$"
   ]
  },
  {
   "cell_type": "markdown",
   "metadata": {},
   "source": [
    "L'algorithme mets à jour de manière séquentielle la partition de V en clusters."
   ]
  },
  {
   "cell_type": "markdown",
   "metadata": {
    "nbpresent": {
     "id": "76a53c71-8b76-4754-bac3-c694a2ae70a3"
    }
   },
   "source": [
    "A chaque date t, l'algorithme reçoit un utilisateur $i_{t}$ ainsi que son vecteur contexte associé. L'algorithme sélectionne une composante de ce vecteur à recommander à l'utilisateur $i_{t}$ en identifiant le cluster auquel appartient $i_{t}$ et en updatant les différents paramètres."
   ]
  },
  {
   "cell_type": "markdown",
   "metadata": {
    "nbpresent": {
     "id": "a831f2b9-3964-470f-a5e7-5db37e55319a"
    }
   },
   "source": []
  },
  {
   "cell_type": "markdown",
   "metadata": {
    "nbpresent": {
     "id": "92e456d1-8dc5-4e62-aa7f-ccabed36626f"
    }
   },
   "source": []
  },
  {
   "cell_type": "markdown",
   "metadata": {
    "nbpresent": {
     "id": "d6e99645-212a-4b80-8cad-1478d99a49b1"
    }
   },
   "source": []
  },
  {
   "cell_type": "markdown",
   "metadata": {
    "nbpresent": {
     "id": "c9be38c5-ac27-4aec-a70b-a40e983d3cad"
    }
   },
   "source": []
  },
  {
   "cell_type": "markdown",
   "metadata": {
    "nbpresent": {
     "id": "d0c4ca7c-8e2c-4243-abe9-78a097778bc9"
    }
   },
   "source": []
  },
  {
   "cell_type": "markdown",
   "metadata": {
    "nbpresent": {
     "id": "603e8f3c-5dc6-4bd8-9abf-86094fe61ca8"
    }
   },
   "source": []
  },
  {
   "cell_type": "markdown",
   "metadata": {
    "nbpresent": {
     "id": "1df79525-c345-4f9c-b308-f1df6b80a321"
    }
   },
   "source": [
    "## Notre implémentation"
   ]
  },
  {
   "cell_type": "markdown",
   "metadata": {},
   "source": [
    "Le pseudo code à implémenter est le suivant : "
   ]
  },
  {
   "cell_type": "markdown",
   "metadata": {},
   "source": [
    "![title](algo.png)"
   ]
  },
  {
   "cell_type": "markdown",
   "metadata": {},
   "source": [
    "<b>Problème : Structure du Graph</b>"
   ]
  },
  {
   "cell_type": "code",
   "execution_count": null,
   "metadata": {},
   "outputs": [],
   "source": []
  }
 ],
 "metadata": {
  "anaconda-cloud": {},
  "kernelspec": {
   "display_name": "Python [conda root]",
   "language": "python",
   "name": "conda-root-py"
  },
  "language_info": {
   "codemirror_mode": {
    "name": "ipython",
    "version": 3
   },
   "file_extension": ".py",
   "mimetype": "text/x-python",
   "name": "python",
   "nbconvert_exporter": "python",
   "pygments_lexer": "ipython3",
   "version": "3.5.4"
  },
  "nbpresent": {
   "slides": {
    "076b0051-a21e-4606-9565-a61de3286345": {
     "id": "076b0051-a21e-4606-9565-a61de3286345",
     "prev": "e546122b-2851-4fa1-82f9-1709cda8bceb",
     "regions": {
      "0695d1c4-6cbf-4bb1-94bd-4c277be4ce95": {
       "attrs": {
        "height": 0.8,
        "width": 0.8,
        "x": 0.1,
        "y": 0.1
       },
       "content": {
        "cell": "75999c62-8df8-4171-a862-6bcc5744cd64",
        "part": "whole"
       },
       "id": "0695d1c4-6cbf-4bb1-94bd-4c277be4ce95"
      }
     }
    },
    "0de47180-9b82-4954-8091-0b94b6237e0f": {
     "id": "0de47180-9b82-4954-8091-0b94b6237e0f",
     "prev": "96c38530-b489-47e3-8a73-36cfe18e6c0b",
     "regions": {
      "fa9df3de-59d1-4749-b5d1-6165850696a7": {
       "attrs": {
        "height": 0.8,
        "width": 0.8,
        "x": 0.1,
        "y": 0.1
       },
       "content": {
        "cell": "24fbed5c-bdfe-4f18-95ab-7870f7e761e6",
        "part": "whole"
       },
       "id": "fa9df3de-59d1-4749-b5d1-6165850696a7"
      }
     }
    },
    "2780cc9a-e17f-441a-8bba-66d878ed8f6e": {
     "id": "2780cc9a-e17f-441a-8bba-66d878ed8f6e",
     "prev": "9fe565db-14f3-4edd-9692-ce6dd36b03ce",
     "regions": {
      "2725111b-c4b3-49fd-8a59-86d066eae100": {
       "attrs": {
        "height": 0.8,
        "width": 0.8,
        "x": 0.1,
        "y": 0.1
       },
       "content": {
        "cell": "0811e267-190f-464c-8613-d0e1e1fdcfb8",
        "part": "whole"
       },
       "id": "2725111b-c4b3-49fd-8a59-86d066eae100"
      }
     }
    },
    "32bcd623-0115-4d37-a4f0-234f6fc300be": {
     "id": "32bcd623-0115-4d37-a4f0-234f6fc300be",
     "prev": "ac0d9193-92f1-4648-887b-514711a9b8f0",
     "regions": {
      "d6890fe3-4f53-4e54-9f65-60d3e53dcc2f": {
       "attrs": {
        "height": 0.8,
        "width": 0.8,
        "x": 0.1,
        "y": 0.1
       },
       "content": {
        "cell": "312b57fe-5534-4858-b0a2-fd9c0a853628",
        "part": "whole"
       },
       "id": "d6890fe3-4f53-4e54-9f65-60d3e53dcc2f"
      }
     }
    },
    "43c25e23-87dd-46f0-b4dc-1bc77a70f148": {
     "id": "43c25e23-87dd-46f0-b4dc-1bc77a70f148",
     "prev": "aa6b00a8-4430-450c-8bee-c9f2cb44fa96",
     "regions": {
      "2d4c0c25-e71e-44d9-b82a-44e2a9369fd7": {
       "attrs": {
        "height": 0.8,
        "width": 0.8,
        "x": 0.1,
        "y": 0.1
       },
       "content": {
        "cell": "adb61a1a-b90b-48fa-91e6-4f3228d4506e",
        "part": "whole"
       },
       "id": "2d4c0c25-e71e-44d9-b82a-44e2a9369fd7"
      }
     }
    },
    "52983be3-5c3e-4b4f-8bc1-044cce8a7a14": {
     "id": "52983be3-5c3e-4b4f-8bc1-044cce8a7a14",
     "prev": "0de47180-9b82-4954-8091-0b94b6237e0f",
     "regions": {
      "5f542cdb-6e7e-4abc-902a-fb15d07c7784": {
       "attrs": {
        "height": 0.8,
        "width": 0.8,
        "x": 0.1,
        "y": 0.1
       },
       "content": {
        "cell": "db189754-8937-421d-8b67-13a5c6d3562a",
        "part": "whole"
       },
       "id": "5f542cdb-6e7e-4abc-902a-fb15d07c7784"
      }
     }
    },
    "5cfc5fdf-ea66-4d18-9986-6926e9f7a6e5": {
     "id": "5cfc5fdf-ea66-4d18-9986-6926e9f7a6e5",
     "prev": "ffb989b1-372b-4851-a9bd-2952bcc8c3e9",
     "regions": {
      "0e6ae87d-b1eb-40b2-ac92-7708df0c460a": {
       "attrs": {
        "height": 0.8,
        "width": 0.8,
        "x": 0.1,
        "y": 0.1
       },
       "content": {
        "cell": "f9fae54a-2827-4932-942d-97ced7b5505f",
        "part": "whole"
       },
       "id": "0e6ae87d-b1eb-40b2-ac92-7708df0c460a"
      }
     }
    },
    "72ea9dc3-b824-4856-9e52-40c8456e66fc": {
     "id": "72ea9dc3-b824-4856-9e52-40c8456e66fc",
     "prev": "2780cc9a-e17f-441a-8bba-66d878ed8f6e",
     "regions": {
      "0e24a83b-1b88-47f3-937e-4e1297767060": {
       "attrs": {
        "height": 0.8,
        "width": 0.8,
        "x": 0.1,
        "y": 0.1
       },
       "content": {
        "cell": "4e8bcbcb-ba82-454b-beef-e7f8cdcb5e1a",
        "part": "whole"
       },
       "id": "0e24a83b-1b88-47f3-937e-4e1297767060"
      }
     }
    },
    "774ec220-e3c6-44a3-be5f-174623ec27e2": {
     "id": "774ec220-e3c6-44a3-be5f-174623ec27e2",
     "prev": "43c25e23-87dd-46f0-b4dc-1bc77a70f148",
     "regions": {
      "caee2e98-96fe-4801-8449-d280afc5743d": {
       "attrs": {
        "height": 0.8,
        "width": 0.8,
        "x": 0.1,
        "y": 0.1
       },
       "content": {
        "cell": "d6bb5e26-71b9-4410-acf7-b6a1a7614e3a",
        "part": "whole"
       },
       "id": "caee2e98-96fe-4801-8449-d280afc5743d"
      }
     }
    },
    "88bd7f57-46ee-41d3-9601-9048b908602f": {
     "id": "88bd7f57-46ee-41d3-9601-9048b908602f",
     "prev": null,
     "regions": {
      "acf950c6-3c6d-4d59-a3b7-694fa2f5b9a7": {
       "attrs": {
        "height": 0.8,
        "width": 0.8,
        "x": 0.1,
        "y": 0.1
       },
       "content": {
        "cell": "334a8a2c-2904-4b25-b5fa-f355235b64e5",
        "part": "whole"
       },
       "id": "acf950c6-3c6d-4d59-a3b7-694fa2f5b9a7"
      }
     }
    },
    "8bdb5ecf-8c65-4631-bbed-c0cd5ac9e8c3": {
     "id": "8bdb5ecf-8c65-4631-bbed-c0cd5ac9e8c3",
     "prev": "5cfc5fdf-ea66-4d18-9986-6926e9f7a6e5",
     "regions": {
      "b8cb3388-f569-488d-bd2e-31e93eb42633": {
       "attrs": {
        "height": 0.8,
        "width": 0.8,
        "x": 0.1,
        "y": 0.1
       },
       "content": {
        "cell": "0530dffe-8662-494c-bd71-e62f7baa6eb4",
        "part": "whole"
       },
       "id": "b8cb3388-f569-488d-bd2e-31e93eb42633"
      }
     }
    },
    "8e0d0dca-196f-4bee-9806-942cad635a1d": {
     "id": "8e0d0dca-196f-4bee-9806-942cad635a1d",
     "prev": "f2423bec-3375-47e5-b91d-a3f0af9d80d1",
     "regions": {
      "1c0d41e0-6903-4f86-bb83-32a17e684c04": {
       "attrs": {
        "height": 0.8,
        "width": 0.8,
        "x": 0.1,
        "y": 0.1
       },
       "content": {
        "cell": "91230770-8d68-46e5-b8d7-6eb38332f201",
        "part": "whole"
       },
       "id": "1c0d41e0-6903-4f86-bb83-32a17e684c04"
      }
     }
    },
    "96c38530-b489-47e3-8a73-36cfe18e6c0b": {
     "id": "96c38530-b489-47e3-8a73-36cfe18e6c0b",
     "prev": "8bdb5ecf-8c65-4631-bbed-c0cd5ac9e8c3",
     "regions": {
      "7d2f97a0-46ea-40ef-a041-6dc49ba7a14e": {
       "attrs": {
        "height": 0.8,
        "width": 0.8,
        "x": 0.1,
        "y": 0.1
       },
       "content": {
        "cell": "7ef2788d-b559-4203-b2bd-90b76b82bd7a",
        "part": "whole"
       },
       "id": "7d2f97a0-46ea-40ef-a041-6dc49ba7a14e"
      }
     }
    },
    "986acfce-9991-4c02-b70d-57f4c0268d9c": {
     "id": "986acfce-9991-4c02-b70d-57f4c0268d9c",
     "prev": "c9f8dbf7-9c53-4869-a15b-4d649e60e5f1",
     "regions": {
      "16affc95-64e4-44f0-bf5d-d2201a0a7353": {
       "attrs": {
        "height": 0.8,
        "width": 0.8,
        "x": 0.1,
        "y": 0.1
       },
       "content": {
        "cell": "d8168bf4-d164-43b3-b336-b30f28d62609",
        "part": "whole"
       },
       "id": "16affc95-64e4-44f0-bf5d-d2201a0a7353"
      }
     }
    },
    "9e31c7bb-83f1-4995-9c49-5bfccf29b08d": {
     "id": "9e31c7bb-83f1-4995-9c49-5bfccf29b08d",
     "prev": "f904127c-7cb7-4c9c-bd17-c16d8a4fe9d2",
     "regions": {
      "62f2cd55-2263-4bd7-b0ba-dca439e4ce18": {
       "attrs": {
        "height": 0.8,
        "width": 0.8,
        "x": 0.1,
        "y": 0.1
       },
       "content": {
        "cell": "d6e99645-212a-4b80-8cad-1478d99a49b1",
        "part": "whole"
       },
       "id": "62f2cd55-2263-4bd7-b0ba-dca439e4ce18"
      }
     }
    },
    "9fe565db-14f3-4edd-9692-ce6dd36b03ce": {
     "id": "9fe565db-14f3-4edd-9692-ce6dd36b03ce",
     "prev": "c43be11c-1167-45a4-8283-fb087be3ca90",
     "regions": {
      "82358ba8-6a0c-43e2-bc9b-ea2e93079dd9": {
       "attrs": {
        "height": 0.8,
        "width": 0.8,
        "x": 0.1,
        "y": 0.1
       },
       "content": {
        "cell": "6e06b7a0-8027-467b-ad95-0af51b24d05b",
        "part": "whole"
       },
       "id": "82358ba8-6a0c-43e2-bc9b-ea2e93079dd9"
      }
     }
    },
    "a5895d07-e002-4624-9f7b-518aa8c345bc": {
     "id": "a5895d07-e002-4624-9f7b-518aa8c345bc",
     "prev": "b814f4fd-e3be-4fbc-8ee4-2a884b834dc2",
     "regions": {
      "43668b47-616d-45bb-993a-00a45266c895": {
       "attrs": {
        "height": 0.8,
        "width": 0.8,
        "x": 0.1,
        "y": 0.1
       },
       "content": {
        "cell": "603e8f3c-5dc6-4bd8-9abf-86094fe61ca8",
        "part": "whole"
       },
       "id": "43668b47-616d-45bb-993a-00a45266c895"
      }
     }
    },
    "aa6b00a8-4430-450c-8bee-c9f2cb44fa96": {
     "id": "aa6b00a8-4430-450c-8bee-c9f2cb44fa96",
     "prev": "32bcd623-0115-4d37-a4f0-234f6fc300be",
     "regions": {
      "948fcb7b-8eea-4610-b941-44d719f74993": {
       "attrs": {
        "height": 0.8,
        "width": 0.8,
        "x": 0.1,
        "y": 0.1
       },
       "content": {
        "cell": "85f4094d-27d4-4ed7-a8de-1f113f2db28a",
        "part": "whole"
       },
       "id": "948fcb7b-8eea-4610-b941-44d719f74993"
      }
     }
    },
    "ac0d9193-92f1-4648-887b-514711a9b8f0": {
     "id": "ac0d9193-92f1-4648-887b-514711a9b8f0",
     "prev": "88bd7f57-46ee-41d3-9601-9048b908602f",
     "regions": {
      "0c8b6a4f-226a-424a-a269-e6548a4229fe": {
       "attrs": {
        "height": 0.8,
        "width": 0.8,
        "x": 0.1,
        "y": 0.1
       },
       "content": {
        "cell": "b0fe486b-07aa-4e01-9544-75e551b3b48d",
        "part": "whole"
       },
       "id": "0c8b6a4f-226a-424a-a269-e6548a4229fe"
      }
     }
    },
    "b0c400f0-03d0-4922-a897-b72a7038c59c": {
     "id": "b0c400f0-03d0-4922-a897-b72a7038c59c",
     "prev": "cdb5212b-fca8-472d-843e-c98e3a0ca7d3",
     "regions": {
      "4d28feb0-425a-46ef-a1b5-b3db4d9d3b81": {
       "attrs": {
        "height": 0.8,
        "width": 0.8,
        "x": 0.1,
        "y": 0.1
       },
       "content": {
        "cell": "a831f2b9-3964-470f-a5e7-5db37e55319a",
        "part": "whole"
       },
       "id": "4d28feb0-425a-46ef-a1b5-b3db4d9d3b81"
      }
     }
    },
    "b814f4fd-e3be-4fbc-8ee4-2a884b834dc2": {
     "id": "b814f4fd-e3be-4fbc-8ee4-2a884b834dc2",
     "prev": "c3400310-5c7f-48a4-830f-6a21e489c6c8",
     "regions": {
      "5d17daf1-1c7f-4a6e-a649-41a87ec66397": {
       "attrs": {
        "height": 0.8,
        "width": 0.8,
        "x": 0.1,
        "y": 0.1
       },
       "content": {
        "cell": "d0c4ca7c-8e2c-4243-abe9-78a097778bc9",
        "part": "whole"
       },
       "id": "5d17daf1-1c7f-4a6e-a649-41a87ec66397"
      }
     }
    },
    "c3400310-5c7f-48a4-830f-6a21e489c6c8": {
     "id": "c3400310-5c7f-48a4-830f-6a21e489c6c8",
     "prev": "9e31c7bb-83f1-4995-9c49-5bfccf29b08d",
     "regions": {
      "ce55fd28-4dad-436f-a601-6074b3e75f87": {
       "attrs": {
        "height": 0.8,
        "width": 0.8,
        "x": 0.1,
        "y": 0.1
       },
       "content": {
        "cell": "c9be38c5-ac27-4aec-a70b-a40e983d3cad",
        "part": "whole"
       },
       "id": "ce55fd28-4dad-436f-a601-6074b3e75f87"
      }
     }
    },
    "c43be11c-1167-45a4-8283-fb087be3ca90": {
     "id": "c43be11c-1167-45a4-8283-fb087be3ca90",
     "prev": "986acfce-9991-4c02-b70d-57f4c0268d9c",
     "regions": {
      "33096b3c-4faf-4cdd-956a-e79e7f34c2e1": {
       "attrs": {
        "height": 0.8,
        "width": 0.8,
        "x": 0.1,
        "y": 0.1
       },
       "content": {
        "cell": "831aa4c0-6523-4aeb-9372-e86c1f890302",
        "part": "whole"
       },
       "id": "33096b3c-4faf-4cdd-956a-e79e7f34c2e1"
      }
     }
    },
    "c9f8dbf7-9c53-4869-a15b-4d649e60e5f1": {
     "id": "c9f8dbf7-9c53-4869-a15b-4d649e60e5f1",
     "prev": "774ec220-e3c6-44a3-be5f-174623ec27e2",
     "regions": {
      "b103e5b6-84c6-49e3-b2c7-8c0cae702bf1": {
       "attrs": {
        "height": 0.8,
        "width": 0.8,
        "x": 0.1,
        "y": 0.1
       },
       "content": {
        "cell": "bc44de34-3e80-4240-a29b-445d099d3cfb",
        "part": "whole"
       },
       "id": "b103e5b6-84c6-49e3-b2c7-8c0cae702bf1"
      }
     }
    },
    "cdb5212b-fca8-472d-843e-c98e3a0ca7d3": {
     "id": "cdb5212b-fca8-472d-843e-c98e3a0ca7d3",
     "prev": "52983be3-5c3e-4b4f-8bc1-044cce8a7a14",
     "regions": {
      "d1b5261c-2b16-4e51-b11d-ac36b8b44365": {
       "attrs": {
        "height": 0.8,
        "width": 0.8,
        "x": 0.1,
        "y": 0.1
       },
       "content": {
        "cell": "76a53c71-8b76-4754-bac3-c694a2ae70a3",
        "part": "whole"
       },
       "id": "d1b5261c-2b16-4e51-b11d-ac36b8b44365"
      }
     }
    },
    "e546122b-2851-4fa1-82f9-1709cda8bceb": {
     "id": "e546122b-2851-4fa1-82f9-1709cda8bceb",
     "prev": "72ea9dc3-b824-4856-9e52-40c8456e66fc",
     "regions": {
      "002f78c3-f967-4d69-9112-7ec4cd4b461d": {
       "attrs": {
        "height": 0.8,
        "width": 0.8,
        "x": 0.1,
        "y": 0.1
       },
       "content": {
        "cell": "2dbd1a2b-ef6c-457e-8137-a60d1524c4c0",
        "part": "whole"
       },
       "id": "002f78c3-f967-4d69-9112-7ec4cd4b461d"
      }
     }
    },
    "f2423bec-3375-47e5-b91d-a3f0af9d80d1": {
     "id": "f2423bec-3375-47e5-b91d-a3f0af9d80d1",
     "prev": "a5895d07-e002-4624-9f7b-518aa8c345bc",
     "regions": {
      "8fc16577-2da4-46fd-8f22-51ba877086b0": {
       "attrs": {
        "height": 0.8,
        "width": 0.8,
        "x": 0.1,
        "y": 0.1
       },
       "content": {
        "cell": "1df79525-c345-4f9c-b308-f1df6b80a321",
        "part": "whole"
       },
       "id": "8fc16577-2da4-46fd-8f22-51ba877086b0"
      }
     }
    },
    "f904127c-7cb7-4c9c-bd17-c16d8a4fe9d2": {
     "id": "f904127c-7cb7-4c9c-bd17-c16d8a4fe9d2",
     "prev": "b0c400f0-03d0-4922-a897-b72a7038c59c",
     "regions": {
      "7b793f9c-e21a-481b-8ecb-c12c8da2d8b7": {
       "attrs": {
        "height": 0.8,
        "width": 0.8,
        "x": 0.1,
        "y": 0.1
       },
       "content": {
        "cell": "92e456d1-8dc5-4e62-aa7f-ccabed36626f",
        "part": "whole"
       },
       "id": "7b793f9c-e21a-481b-8ecb-c12c8da2d8b7"
      }
     }
    },
    "ffb989b1-372b-4851-a9bd-2952bcc8c3e9": {
     "id": "ffb989b1-372b-4851-a9bd-2952bcc8c3e9",
     "prev": "076b0051-a21e-4606-9565-a61de3286345",
     "regions": {
      "c1b02784-f643-4c14-b8dc-f279020914c6": {
       "attrs": {
        "height": 0.8,
        "width": 0.8,
        "x": 0.1,
        "y": 0.1
       },
       "content": {
        "cell": "8dbecc06-309d-42d5-bcf1-b59d7984ffbf",
        "part": "whole"
       },
       "id": "c1b02784-f643-4c14-b8dc-f279020914c6"
      }
     }
    }
   },
   "themes": {}
  }
 },
 "nbformat": 4,
 "nbformat_minor": 2
}
