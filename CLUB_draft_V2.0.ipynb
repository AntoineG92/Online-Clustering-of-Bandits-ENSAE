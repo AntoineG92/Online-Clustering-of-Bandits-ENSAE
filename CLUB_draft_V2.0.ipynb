{
 "cells": [
  {
   "cell_type": "markdown",
   "metadata": {},
   "source": [
    "# CLUB algorithm draft - Online Clustering of Bandits"
   ]
  },
  {
   "cell_type": "markdown",
   "metadata": {},
   "source": [
    "Antoine GRELETY\n",
    "\n",
    "Vincent LE MEUR"
   ]
  },
  {
   "cell_type": "code",
   "execution_count": 61,
   "metadata": {
    "ExecuteTime": {
     "end_time": "2018-03-26T11:45:51.687131Z",
     "start_time": "2018-03-26T11:45:51.600008Z"
    },
    "collapsed": false
   },
   "outputs": [],
   "source": [
    "import numpy as np\n",
    "import numpy.random as npr\n",
    "import numpy.linalg\n",
    "import pandas as pd\n",
    "from scipy.spatial.distance import euclidean\n",
    "import networkx as nx\n",
    "import matplotlib.pyplot as plt\n",
    "plt.switch_backend('agg')"
   ]
  },
  {
   "cell_type": "code",
   "execution_count": 18,
   "metadata": {
    "ExecuteTime": {
     "end_time": "2018-03-26T11:45:53.716966Z",
     "start_time": "2018-03-26T11:45:53.651498Z"
    },
    "collapsed": false,
    "scrolled": true
   },
   "outputs": [
    {
     "name": "stdout",
     "output_type": "stream",
     "text": [
      "The autoreload extension is already loaded. To reload it, use:\n",
      "  %reload_ext autoreload\n"
     ]
    }
   ],
   "source": [
    "%load_ext autoreload\n",
    "%autoreload 2\n",
    "import online_cluster"
   ]
  },
  {
   "cell_type": "code",
   "execution_count": 102,
   "metadata": {
    "ExecuteTime": {
     "end_time": "2018-03-26T11:46:44.280912Z",
     "start_time": "2018-03-26T11:46:44.113777Z"
    },
    "collapsed": false
   },
   "outputs": [],
   "source": [
    "n_user=60\n",
    "T=55000\n",
    "D=5\n",
    "c=5\n",
    "Online =online_cluster.OLCB(T=T,n_user=n_user,D=D,c=3,graph_density=3*int(np.log(n_user)*n_user))\n",
    "Online_UCB_IND =online_cluster.OLCB(T=T,n_user=n_user,D=D,c=c,graph_density=1)"
   ]
  },
  {
   "cell_type": "markdown",
   "metadata": {},
   "source": [
    "On représente tous les n_users :"
   ]
  },
  {
   "cell_type": "code",
   "execution_count": 100,
   "metadata": {
    "ExecuteTime": {
     "end_time": "2018-03-26T11:46:48.093008Z",
     "start_time": "2018-03-26T11:46:47.663720Z"
    },
    "collapsed": false
   },
   "outputs": [],
   "source": [
    "fig = plt.figure()\n",
    "nx.draw(Online.V)\n",
    "#plt.show()\n",
    "plt.savefig('graphe_initial.png')"
   ]
  },
  {
   "cell_type": "code",
   "execution_count": 105,
   "metadata": {
    "ExecuteTime": {
     "end_time": "2018-03-26T11:46:51.408154Z",
     "start_time": "2018-03-26T11:46:51.219416Z"
    },
    "collapsed": true
   },
   "outputs": [],
   "source": [
    "#paramètrage des algorithmes\n",
    "sigma=0.3\n",
    "alpha=5\n",
    "alpha2=1\n",
    "z=2\n",
    "method = \"fixed design\""
   ]
  },
  {
   "cell_type": "markdown",
   "metadata": {},
   "source": [
    "#### Algorithme CLUB"
   ]
  },
  {
   "cell_type": "code",
   "execution_count": 106,
   "metadata": {
    "ExecuteTime": {
     "start_time": "2018-03-26T11:46:53.728Z"
    },
    "collapsed": false
   },
   "outputs": [],
   "source": [
    "list_m, list_CB, list_omega, list_payoff, list_random_payoff, regret_cum, regret_cum_random, V = Online.CLUB(sigma=sigma,alpha=alpha,alpha2=alpha2,z=z,method=method)"
   ]
  },
  {
   "cell_type": "markdown",
   "metadata": {},
   "source": [
    "#### Algorithme UCB_IND (pas de cluster)"
   ]
  },
  {
   "cell_type": "code",
   "execution_count": 107,
   "metadata": {
    "ExecuteTime": {
     "start_time": "2018-03-26T11:46:55.504Z"
    },
    "collapsed": true
   },
   "outputs": [],
   "source": [
    "#payoff_UCB_IND, rand_payoff_IND, regret_cum_UCB_IND, regret_cum_rand_UCB_IND, V_IND = Online_UCB_IND.CLUB(sigma=sigma,alpha=alpha,alpha2=alpha2,z=z,method=method)[3:]"
   ]
  },
  {
   "cell_type": "markdown",
   "metadata": {},
   "source": [
    "#### Algorithme LINUCB_IND "
   ]
  },
  {
   "cell_type": "code",
   "execution_count": 108,
   "metadata": {
    "ExecuteTime": {
     "start_time": "2018-03-26T11:46:57.322Z"
    },
    "collapsed": true
   },
   "outputs": [],
   "source": [
    "list_payoff_Lin,regret_cum_Lin,regret_cum_random_Lin = Online.LinUCB_IND(sigma=sigma,alpha=alpha,method=method)"
   ]
  },
  {
   "cell_type": "code",
   "execution_count": 109,
   "metadata": {
    "collapsed": false
   },
   "outputs": [
    {
     "name": "stdout",
     "output_type": "stream",
     "text": [
      "2\n",
      "CLUB: 0.698938775507\n",
      "UCB LinUCB 0.223631440771\n"
     ]
    }
   ],
   "source": [
    "#pour évaluer les perfs sans les plots sur Google Cloud\n",
    "ratio_CLUB = regret_cum/regret_cum_random\n",
    "print(list_m[T-1])\n",
    "#ratio_IND=regret_cum_UCB_IND/regret_cum_rand_UCB_IND\n",
    "ratio_LinUCB = regret_cum_Lin/regret_cum_random\n",
    "print(\"CLUB:\",ratio_CLUB[T-1])\n",
    "#print(\"UCB IND\",ratio_IND[T-1])\n",
    "print(\"UCB LinUCB\",ratio_LinUCB[T-1])"
   ]
  },
  {
   "cell_type": "code",
   "execution_count": 56,
   "metadata": {
    "collapsed": false
   },
   "outputs": [
    {
     "data": {
      "text/plain": [
       "2150"
      ]
     },
     "execution_count": 56,
     "metadata": {},
     "output_type": "execute_result"
    }
   ],
   "source": [
    "max_m=np.max(list_m)\n",
    "[i for i in range(len(list_m)) if list_m[i]==max_m][0]"
   ]
  },
  {
   "cell_type": "markdown",
   "metadata": {},
   "source": [
    "Regardons l'évolution du nombre de Cluster au fur et à mesure des ittérations :"
   ]
  },
  {
   "cell_type": "code",
   "execution_count": 72,
   "metadata": {
    "ExecuteTime": {
     "start_time": "2018-03-26T11:46:59.544Z"
    },
    "collapsed": false
   },
   "outputs": [],
   "source": [
    "fig = plt.figure()\n",
    "plt.plot(list_m)\n",
    "plt.title(\"Evolution du nombre de cluster\")\n",
    "#plt.show()\n",
    "plt.savefig('nombre_clusters_evol.png')"
   ]
  },
  {
   "cell_type": "markdown",
   "metadata": {},
   "source": [
    "Observons l'évolution des Confidence Bound :"
   ]
  },
  {
   "cell_type": "code",
   "execution_count": 75,
   "metadata": {
    "ExecuteTime": {
     "start_time": "2018-03-26T11:47:01.800Z"
    },
    "collapsed": false
   },
   "outputs": [],
   "source": [
    "plt.figure()\n",
    "plt.plot(list_CB)\n",
    "plt.legend(\"Evolution des Confidence Bound\")\n",
    "#plt.show()\n",
    "plt.savefig('CB_evol.png')"
   ]
  },
  {
   "cell_type": "markdown",
   "metadata": {},
   "source": [
    "Observons l'évolution de la payoff cumulée en fonction des ittérations :"
   ]
  },
  {
   "cell_type": "code",
   "execution_count": 77,
   "metadata": {
    "ExecuteTime": {
     "start_time": "2018-03-26T11:47:03.948Z"
    },
    "collapsed": true
   },
   "outputs": [],
   "source": [
    "plt.figure()\n",
    "plt.plot(Online.payoff_cum(list_payoff)[1000:Online.T])\n",
    "#plt.plot(Online_UCB_IND.payoff_cum(payoff_UCB_IND)[1000:Online_UCB_IND.T])\n",
    "plt.plot(Online.payoff_cum(list_payoff_Lin)[1000:Online.T])\n",
    "plt.title(\"Evolution de la payoff cumulée\")\n",
    "plt.legend([\"CLUB\",\"LinUCB_IND\"])\n",
    "#plt.show()\n",
    "plt.savefig('payoff_cumul.png')"
   ]
  },
  {
   "cell_type": "markdown",
   "metadata": {},
   "source": [
    "Observons enfin le regret cumulé associé : "
   ]
  },
  {
   "cell_type": "code",
   "execution_count": 111,
   "metadata": {
    "ExecuteTime": {
     "start_time": "2018-03-26T11:47:07.222Z"
    },
    "collapsed": true
   },
   "outputs": [],
   "source": [
    "#plt.plot(-regret_cum_random)\n",
    "plt.figure()\n",
    "plt.plot(regret_cum/regret_cum_random)\n",
    "#plt.plot(regret_cum_UCB_IND/regret_cum_rand_UCB_IND)\n",
    "plt.plot(regret_cum_Lin/regret_cum_random_Lin)\n",
    "plt.legend([\"CLUB\",\"LinUCB_IND\"])\n",
    "plt.xlim(1000,)\n",
    "plt.ylim(0,1)\n",
    "plt.xlabel(\"itérations\")\n",
    "plt.ylabel(\"regret cumulé relatif\")\n",
    "plt.title(\"Evolution du regret cumulé relatif au cas aléatoire\")\n",
    "plt.show()\n",
    "plt.savefig('regret_cumul.png')"
   ]
  },
  {
   "cell_type": "markdown",
   "metadata": {},
   "source": [
    "Les nouveux clusters sont :"
   ]
  },
  {
   "cell_type": "code",
   "execution_count": 110,
   "metadata": {
    "ExecuteTime": {
     "start_time": "2018-03-26T11:47:09.448Z"
    },
    "collapsed": true
   },
   "outputs": [],
   "source": [
    "fig = plt.figure()\n",
    "nx.draw(V)\n",
    "plt.savefig('graphe_final.png')"
   ]
  },
  {
   "cell_type": "code",
   "execution_count": null,
   "metadata": {
    "collapsed": true
   },
   "outputs": [],
   "source": []
  }
 ],
 "metadata": {
  "anaconda-cloud": {},
  "kernelspec": {
   "display_name": "Python 3",
   "language": "python",
   "name": "python3"
  },
  "language_info": {
   "codemirror_mode": {
    "name": "ipython",
    "version": 3
   },
   "file_extension": ".py",
   "mimetype": "text/x-python",
   "name": "python",
   "nbconvert_exporter": "python",
   "pygments_lexer": "ipython3",
   "version": "3.5.1"
  }
 },
 "nbformat": 4,
 "nbformat_minor": 2
}
