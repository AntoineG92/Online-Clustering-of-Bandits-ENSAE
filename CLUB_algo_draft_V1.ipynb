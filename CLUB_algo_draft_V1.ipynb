{
 "cells": [
  {
   "cell_type": "markdown",
   "metadata": {},
   "source": [
    "# CLUB algorithm draft - Online Clustering of Bandits"
   ]
  },
  {
   "cell_type": "code",
   "execution_count": 103,
   "metadata": {
    "collapsed": true
   },
   "outputs": [],
   "source": [
    "import numpy as np\n",
    "import numpy.random as npr\n",
    "import numpy.linalg\n",
    "import pandas as pd\n",
    "from scipy.spatial.distance import euclidean\n",
    "import networkx as nx\n",
    "import matplotlib.pyplot as plt"
   ]
  },
  {
   "cell_type": "markdown",
   "metadata": {},
   "source": [
    "### Commentaires\n",
    "\n",
    "Quelques remarques pour la partie Artificial Datasets page 6:\n",
    "   \n",
    "* Vecteurs des vrais clusters $u_{j}$ est crée directement. Pas besoin de M et b\n",
    "* Matrices C générées sur la sphere unitaire, on aurait alors un nombre infini de profils de users mais pas trop distants les uns des autres (je l'ai déjà intégré dans le code avec la fonction sphere_unif)\n",
    "* T = 5000 + 50,000 pourquoi cette décomposition ?\n",
    "\n",
    "Problème de convergence: sur une période suffisamment longue, on supprime tous les noeuds du graphe <br>"
   ]
  },
  {
   "cell_type": "markdown",
   "metadata": {},
   "source": [
    "# Initialisation"
   ]
  },
  {
   "cell_type": "code",
   "execution_count": 48,
   "metadata": {},
   "outputs": [
    {
     "name": "stdout",
     "output_type": "stream",
     "text": [
      "{1: {2: {}}, 2: {1: {}, 3: {}}, 3: {2: {}}}\n"
     ]
    }
   ],
   "source": [
    "#tests\n",
    "V=nx.Graph()\n",
    "V.add_node(1)\n",
    "V.add_node(2)\n",
    "V.add_node(3)\n",
    "V.add_edge(1,2)\n",
    "V.add_edge(3,2)\n",
    "print(V.adj)"
   ]
  },
  {
   "cell_type": "code",
   "execution_count": 169,
   "metadata": {},
   "outputs": [
    {
     "name": "stdout",
     "output_type": "stream",
     "text": [
      "{0: {'weight': 1.0}, 1: {'weight': 1.0}, 2: {'weight': 1.0}, 3: {'weight': 1.0}}\n"
     ]
    }
   ],
   "source": [
    "V=nx.Graph(np.ones([4,4]))\n",
    "#V=nx.Graph(np.identity(3))\n",
    "#print(V.adj)\n",
    "print(V[1])"
   ]
  },
  {
   "cell_type": "code",
   "execution_count": 166,
   "metadata": {
    "collapsed": true
   },
   "outputs": [],
   "source": [
    "V.remove_edge(0,1)\n",
    "V.remove_edge(2,3)\n",
    "V.remove_edge(3,1)\n",
    "V.remove_edge(0,2)"
   ]
  },
  {
   "cell_type": "code",
   "execution_count": 170,
   "metadata": {},
   "outputs": [
    {
     "data": {
      "image/png": "[encoded data removed]",
      "text/plain": [
       "<matplotlib.figure.Figure at 0x1158d1438>"
      ]
     },
     "metadata": {},
     "output_type": "display_data"
    }
   ],
   "source": [
    "nx.draw_networkx(V)\n",
    "plt.show()"
   ]
  },
  {
   "cell_type": "code",
   "execution_count": 213,
   "metadata": {
    "collapsed": true
   },
   "outputs": [],
   "source": [
    "#sphere unitaire pour générer les matrices de contexte C à chaque période\n",
    "def sphere_unif(dim,N):\n",
    "    norm = np.random.normal\n",
    "    normal_deviates = norm(size=(dim, N))\n",
    "    radius = np.sqrt((normal_deviates**2).sum(axis=0))\n",
    "    points = normal_deviates/radius\n",
    "    return(points)"
   ]
  },
  {
   "cell_type": "code",
   "execution_count": 257,
   "metadata": {},
   "outputs": [],
   "source": [
    "#itérations\n",
    "T=1000\n",
    "#nombre d'utilisateurs\n",
    "n_user=27\n",
    "#dimension des catégories/labels à prédire\n",
    "D=3\n",
    "#matrice M_i associée à l'approximation des paramètres du cluster j(i)\n",
    "#paramètre b_i associé à l'approximation des paramètres du cluster j(i)\n",
    "d_M=dict()\n",
    "d_b=dict()\n",
    "for i in range(n_user):\n",
    "    d_M['M%d' % i]=np.identity(D)\n",
    "    d_b['b%d' % i]=np.zeros(D)\n",
    "\n",
    "#vrai nombre de clusters (supposé connu et constant pour chaque période) \n",
    "c=10\n",
    "m=1        \n",
    "#variation autour de la payoff (white noise)\n",
    "sigma=1\n",
    "#nombre de users dans chaque cluster\n",
    "\n",
    "#matrice U des vrais u_j\n",
    "U=sphere_unif(c,D)\n",
    "\n",
    "#initialiser omega\n",
    "omega=np.ones(D)\n",
    "#init matrice V du graphe réel\n",
    "V=nx.Graph( np.ones([n_user,n_user]) )\n",
    "#paramètre du confidence bound\n",
    "alpha=1\n",
    "alpha2=6\n",
    "#standard deviation du white noise\n",
    "sigma=1\n",
    "#liste des indices précédents\n",
    "list_i=[]\n",
    "#liste de matrices de contexte C_it pré-définies. Pour user i à période t, on va piocher dans cette liste\n",
    "#nb_context=int(n_user/3) #nombre de contextes différents\n",
    "list_C=[]\n",
    "for cont in range(T):\n",
    "    #list_C.append(npr.uniform(0,1,size=[D,c]))\n",
    "    #list_C.append(npr.normal(0,1,size=[D,c]))\n",
    "    list_C.append(sphere_unif(D,c))\n",
    "\n",
    "# nombre de clusters en fonction de la période\n",
    "list_m=[]"
   ]
  },
  {
   "cell_type": "markdown",
   "metadata": {},
   "source": [
    "## Algo CLUB"
   ]
  },
  {
   "cell_type": "code",
   "execution_count": 259,
   "metadata": {},
   "outputs": [],
   "source": [
    "%%capture\n",
    "for t in range(T):\n",
    "    print(\"période t=\",t)\n",
    "    #choisir aléatoirement un user i\n",
    "    i=int(npr.uniform(0,n_user))\n",
    "    print(\"user i=\",i)\n",
    "    list_i.append(i)\n",
    "    #reçoit contexte C_it généré aléatoirement sur une sphere unitaire\n",
    "    #C = sphere_unif(D,c)\n",
    "    #piocher dans un ensemble de profils générés aléatoirement sur t=1...T\n",
    "    #indique les préférences de user i à période t pour chaque cluster estimé 1...c\n",
    "    C = list_C[ int( npr.uniform(0,T) ) ]  \n",
    "    #genère omega\n",
    "    omega=np.zeros([n_user,D])\n",
    "    print(\"omega:\",np.dot(np.linalg.inv(d_M['M'+str(int(i))]),d_b['b'+str(int(i))]))\n",
    "    omega[i,:]=np.dot(np.linalg.inv(d_M['M'+str(int(i))]),d_b['b'+str(int(i))])\n",
    "    #détermine l'indice du cluster de i: j_t(i)\n",
    "    #calcule M_bar et b_bar et omega aggrégés\n",
    "    #on récupère tous les indices qui appartiennent au même cluster que celui de i\n",
    "    M_index = [ n for n in V[i] ]  #liste d'indices des noeuds au point i\n",
    "    M_sum=sum([d_M['M'+str(int(k))] for k in M_index])\n",
    "    M_bar=np.identity(D)+M_sum-len(M_index)*np.identity(D)\n",
    "    b_bar=sum([d_b['b'+str(int(k))] for k in M_index])\n",
    "    omega_bar=np.dot(np.linalg.inv(M_bar),b_bar)\n",
    "    #détermine k_t optimal pour cluster j_t(i)\n",
    "    vect_k=np.zeros(c)\n",
    "    for k in range(c):\n",
    "        CB=alpha*np.sqrt(np.dot(np.dot(C[:,k].T,np.linalg.inv(M_bar)),C[:,k])*np.log(t+1))\n",
    "        vect_k[k]=CB+np.dot(omega_bar.T,C[:,k])\n",
    "    k_t=[v for v in range(c) if vect_k[v]==np.max(vect_k)][0]\n",
    "    #calcule payoffs avec u_j\n",
    "    a_t=np.dot(U[k_t],C[:,k_t])+npr.normal(loc=0,scale=sigma,size=1)\n",
    "    #update weights\n",
    "    d_M['M'+str(int(i))]=d_M['M'+str(int(i))]+np.dot(C[:,k_t],C[:,k_t].T)\n",
    "    d_b['b'+str(int(i))]=d_b['b'+str(int(i))]+a_t*C[:,k_t]\n",
    "    #update clusters\n",
    "    T_i=list_i.count(i)-1  #nombre de user i piochés sur les périodes précédentes (exlcue période t actuelle)\n",
    "    if list_i.count(i)==1: #cas spécifique pour lorsque i est pioché pour la 1ère fois\n",
    "        T_i=1\n",
    "    CB_tild=np.zeros(n_user) #calcul des bornes de confiance pour tous les user\n",
    "    CB_tild[i]=alpha2*np.sqrt((1+np.log(1+T_i))/(1+T_i)) #CB pour i, on en a besoin dans la boucle sur les autres users\n",
    "    for l in range(n_user): #CB pour les autres users\n",
    "        T_i=list_i.count(l)-1\n",
    "        if list_i.count(l)==1:\n",
    "            T_i=1\n",
    "        if list_i.count(l)==0:\n",
    "            T_i=0\n",
    "        CB_tild[l]=alpha2*np.sqrt((1+np.log(1+T_i))/(1+T_i))\n",
    "        omega[l,:]=np.dot(np.linalg.inv(d_M['M'+str(int(l))]),d_b['b'+str(int(l))])\n",
    "        norm_diff_omega=euclidean(omega[l,:],omega[i,:])\n",
    "        if (norm_diff_omega > CB_tild[l] + CB_tild[i]) & (l in V[i]): #si la distance entre users i et l on brise le lien\n",
    "            V.remove_edge(i,l)\n",
    "            print(\"brise le lien entre users\",i,\"et\",l)\n",
    "        #update le nombre de sous-graphes i.e. nombre de clusters at la période t\n",
    "    m=len( list( nx.connected_component_subgraphs(V) ) )\n",
    "    print(\"nombre de clusters:\",m)\n",
    "    list_m.append(m)\n",
    "    #nx.draw_networkx(V)\n",
    "    #plt.show()\n",
    "    \n"
   ]
  },
  {
   "cell_type": "code",
   "execution_count": 260,
   "metadata": {},
   "outputs": [
    {
     "data": {
      "image/png": "[encoded data removed]",
      "text/plain": [
       "<matplotlib.figure.Figure at 0x115740ac8>"
      ]
     },
     "metadata": {},
     "output_type": "display_data"
    }
   ],
   "source": [
    "plt.plot(range(len(list_m) ),list_m)\n",
    "plt.show()"
   ]
  },
  {
   "cell_type": "code",
   "execution_count": null,
   "metadata": {
    "collapsed": true
   },
   "outputs": [],
   "source": []
  }
 ],
 "metadata": {
  "kernelspec": {
   "display_name": "Python 3",
   "language": "python",
   "name": "python3"
  },
  "language_info": {
   "codemirror_mode": {
    "name": "ipython",
    "version": 3
   },
   "file_extension": ".py",
   "mimetype": "text/x-python",
   "name": "python",
   "nbconvert_exporter": "python",
   "pygments_lexer": "ipython3",
   "version": "3.6.3"
  }
 },
 "nbformat": 4,
 "nbformat_minor": 2
}
